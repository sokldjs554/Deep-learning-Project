{
 "cells": [
  {
   "cell_type": "markdown",
   "id": "c1857731",
   "metadata": {
    "_cell_guid": "b1076dfc-b9ad-4769-8c92-a6c4dae69d19",
    "_uuid": "8f2839f25d086af736a60e9eeb907d3b93b6e0e5",
    "papermill": {
     "duration": 0.012569,
     "end_time": "2024-10-11T08:28:22.628765",
     "exception": false,
     "start_time": "2024-10-11T08:28:22.616196",
     "status": "completed"
    },
    "tags": []
   },
   "source": [
    "#This Python 3 environment comes with many helpful analytics libraries installed\n",
    "#It is defined by the kaggle/python Docker image: https://github.com/kaggle/docker-python\n",
    "#For example, here's several helpful packages to load\n",
    "\n",
    "import numpy as np # linear algebra\n",
    "import pandas as pd # data processing, CSV file I/O (e.g. pd.read_csv)\n",
    "\n",
    "#Input data files are available in the read-only \"../input/\" directory\n",
    "#For example, running this (by clicking run or pressing Shift+Enter) will list all files under the input directory\n",
    "\n",
    "import os\n",
    "for dirname, _, filenames in os.walk('/kaggle/input'):\n",
    "    for filename in filenames:\n",
    "        print(os.path.join(dirname, filename))\n",
    "\n",
    "#You can write up to 20GB to the current directory (/kaggle/working/) that gets preserved as output when you create a version using \"Save & Run All\" \n",
    "#You can also write temporary files to /kaggle/temp/, but they won't be saved outside of the current session"
   ]
  },
  {
   "cell_type": "code",
   "execution_count": 1,
   "id": "ed3377ad",
   "metadata": {
    "execution": {
     "iopub.execute_input": "2024-10-11T08:28:22.654542Z",
     "iopub.status.busy": "2024-10-11T08:28:22.654253Z",
     "iopub.status.idle": "2024-10-11T08:28:42.640509Z",
     "shell.execute_reply": "2024-10-11T08:28:42.639739Z"
    },
    "papermill": {
     "duration": 20.002187,
     "end_time": "2024-10-11T08:28:42.642850",
     "exception": false,
     "start_time": "2024-10-11T08:28:22.640663",
     "status": "completed"
    },
    "tags": []
   },
   "outputs": [
    {
     "name": "stderr",
     "output_type": "stream",
     "text": [
      "/opt/conda/lib/python3.10/site-packages/albumentations/__init__.py:13: UserWarning: A new version of Albumentations is available: 1.4.18 (you have 1.4.15). Upgrade using: pip install -U albumentations. To disable automatic update checks, set the environment variable NO_ALBUMENTATIONS_UPDATE to 1.\n",
      "  check_for_updates()\n"
     ]
    }
   ],
   "source": [
    "import numpy as np\n",
    "import os\n",
    "import torch\n",
    "import torch.nn as nn\n",
    "import torch.nn.functional as F\n",
    "import pandas as pd\n",
    "import tensorflow as tf\n",
    "import matplotlib.pyplot as plt\n",
    "import matplotlib as mpl\n",
    "import matplotlib.gridspec as gridspec\n",
    "import random\n",
    "import cv2\n",
    "import torch\n",
    "import seaborn as sns\n",
    "import warnings\n",
    "import albumentations as A\n",
    " \n",
    "from tensorflow.keras.layers import Dense, LSTM, Dropout, Conv2D, MaxPooling2D, AveragePooling2D, Flatten, BatchNormalization, LeakyReLU\n",
    "from tensorflow.keras.models import Sequential\n",
    "from tensorflow.keras.preprocessing.image import ImageDataGenerator\n",
    "from tensorflow.keras.preprocessing.image import load_img\n",
    "from tensorflow.keras.preprocessing.image import img_to_array\n",
    "from tensorflow.keras.utils import plot_model\n",
    "from tensorflow.keras.optimizers import Adam\n",
    "from sklearn.model_selection import train_test_split\n",
    "from sklearn.metrics import roc_auc_score\n",
    "from sklearn.metrics import mean_squared_error\n",
    "from torch.utils.data import Dataset\n",
    "from torch.utils.data import DataLoader\n",
    "from torchvision import transforms\n",
    "from zipfile import ZipFile\n",
    "from tqdm.notebook import tqdm\n",
    "from torchvision import transforms\n",
    "warnings.filterwarnings(action = \"ignore\")"
   ]
  },
  {
   "cell_type": "code",
   "execution_count": 2,
   "id": "96aaedd0",
   "metadata": {
    "execution": {
     "iopub.execute_input": "2024-10-11T08:28:42.668539Z",
     "iopub.status.busy": "2024-10-11T08:28:42.667991Z",
     "iopub.status.idle": "2024-10-11T08:28:42.715381Z",
     "shell.execute_reply": "2024-10-11T08:28:42.714677Z"
    },
    "papermill": {
     "duration": 0.062123,
     "end_time": "2024-10-11T08:28:42.717288",
     "exception": false,
     "start_time": "2024-10-11T08:28:42.655165",
     "status": "completed"
    },
    "tags": []
   },
   "outputs": [],
   "source": [
    "data_path = '/kaggle/input/aerial-cactus-identification/'\n",
    "\n",
    "train = pd.read_csv('/kaggle/input/aerial-cactus-identification/train.csv')\n",
    "submission = pd.read_csv('/kaggle/input/aerial-cactus-identification/sample_submission.csv')"
   ]
  },
  {
   "cell_type": "code",
   "execution_count": 3,
   "id": "e5401e91",
   "metadata": {
    "execution": {
     "iopub.execute_input": "2024-10-11T08:28:42.742453Z",
     "iopub.status.busy": "2024-10-11T08:28:42.742180Z",
     "iopub.status.idle": "2024-10-11T08:28:42.758020Z",
     "shell.execute_reply": "2024-10-11T08:28:42.757161Z"
    },
    "papermill": {
     "duration": 0.030445,
     "end_time": "2024-10-11T08:28:42.759868",
     "exception": false,
     "start_time": "2024-10-11T08:28:42.729423",
     "status": "completed"
    },
    "tags": []
   },
   "outputs": [
    {
     "data": {
      "text/html": [
       "<div>\n",
       "<style scoped>\n",
       "    .dataframe tbody tr th:only-of-type {\n",
       "        vertical-align: middle;\n",
       "    }\n",
       "\n",
       "    .dataframe tbody tr th {\n",
       "        vertical-align: top;\n",
       "    }\n",
       "\n",
       "    .dataframe thead th {\n",
       "        text-align: right;\n",
       "    }\n",
       "</style>\n",
       "<table border=\"1\" class=\"dataframe\">\n",
       "  <thead>\n",
       "    <tr style=\"text-align: right;\">\n",
       "      <th></th>\n",
       "      <th>id</th>\n",
       "      <th>has_cactus</th>\n",
       "    </tr>\n",
       "  </thead>\n",
       "  <tbody>\n",
       "    <tr>\n",
       "      <th>0</th>\n",
       "      <td>0004be2cfeaba1c0361d39e2b000257b.jpg</td>\n",
       "      <td>1</td>\n",
       "    </tr>\n",
       "    <tr>\n",
       "      <th>1</th>\n",
       "      <td>000c8a36845c0208e833c79c1bffedd1.jpg</td>\n",
       "      <td>1</td>\n",
       "    </tr>\n",
       "    <tr>\n",
       "      <th>2</th>\n",
       "      <td>000d1e9a533f62e55c289303b072733d.jpg</td>\n",
       "      <td>1</td>\n",
       "    </tr>\n",
       "    <tr>\n",
       "      <th>3</th>\n",
       "      <td>0011485b40695e9138e92d0b3fb55128.jpg</td>\n",
       "      <td>1</td>\n",
       "    </tr>\n",
       "    <tr>\n",
       "      <th>4</th>\n",
       "      <td>0014d7a11e90b62848904c1418fc8cf2.jpg</td>\n",
       "      <td>1</td>\n",
       "    </tr>\n",
       "  </tbody>\n",
       "</table>\n",
       "</div>"
      ],
      "text/plain": [
       "                                     id  has_cactus\n",
       "0  0004be2cfeaba1c0361d39e2b000257b.jpg           1\n",
       "1  000c8a36845c0208e833c79c1bffedd1.jpg           1\n",
       "2  000d1e9a533f62e55c289303b072733d.jpg           1\n",
       "3  0011485b40695e9138e92d0b3fb55128.jpg           1\n",
       "4  0014d7a11e90b62848904c1418fc8cf2.jpg           1"
      ]
     },
     "execution_count": 3,
     "metadata": {},
     "output_type": "execute_result"
    }
   ],
   "source": [
    "train.head()"
   ]
  },
  {
   "cell_type": "code",
   "execution_count": 4,
   "id": "47475ed2",
   "metadata": {
    "execution": {
     "iopub.execute_input": "2024-10-11T08:28:42.786772Z",
     "iopub.status.busy": "2024-10-11T08:28:42.786452Z",
     "iopub.status.idle": "2024-10-11T08:28:42.808457Z",
     "shell.execute_reply": "2024-10-11T08:28:42.807355Z"
    },
    "papermill": {
     "duration": 0.037064,
     "end_time": "2024-10-11T08:28:42.810416",
     "exception": false,
     "start_time": "2024-10-11T08:28:42.773352",
     "status": "completed"
    },
    "tags": []
   },
   "outputs": [
    {
     "name": "stdout",
     "output_type": "stream",
     "text": [
      "<class 'pandas.core.frame.DataFrame'>\n",
      "RangeIndex: 17500 entries, 0 to 17499\n",
      "Data columns (total 2 columns):\n",
      " #   Column      Non-Null Count  Dtype \n",
      "---  ------      --------------  ----- \n",
      " 0   id          17500 non-null  object\n",
      " 1   has_cactus  17500 non-null  int64 \n",
      "dtypes: int64(1), object(1)\n",
      "memory usage: 273.6+ KB\n"
     ]
    }
   ],
   "source": [
    "train.info()"
   ]
  },
  {
   "cell_type": "code",
   "execution_count": 5,
   "id": "81713f6a",
   "metadata": {
    "execution": {
     "iopub.execute_input": "2024-10-11T08:28:42.836600Z",
     "iopub.status.busy": "2024-10-11T08:28:42.836297Z",
     "iopub.status.idle": "2024-10-11T08:28:42.846423Z",
     "shell.execute_reply": "2024-10-11T08:28:42.845595Z"
    },
    "papermill": {
     "duration": 0.02499,
     "end_time": "2024-10-11T08:28:42.848295",
     "exception": false,
     "start_time": "2024-10-11T08:28:42.823305",
     "status": "completed"
    },
    "tags": []
   },
   "outputs": [
    {
     "data": {
      "text/html": [
       "<div>\n",
       "<style scoped>\n",
       "    .dataframe tbody tr th:only-of-type {\n",
       "        vertical-align: middle;\n",
       "    }\n",
       "\n",
       "    .dataframe tbody tr th {\n",
       "        vertical-align: top;\n",
       "    }\n",
       "\n",
       "    .dataframe thead th {\n",
       "        text-align: right;\n",
       "    }\n",
       "</style>\n",
       "<table border=\"1\" class=\"dataframe\">\n",
       "  <thead>\n",
       "    <tr style=\"text-align: right;\">\n",
       "      <th></th>\n",
       "      <th>id</th>\n",
       "      <th>has_cactus</th>\n",
       "    </tr>\n",
       "  </thead>\n",
       "  <tbody>\n",
       "    <tr>\n",
       "      <th>0</th>\n",
       "      <td>000940378805c44108d287872b2f04ce.jpg</td>\n",
       "      <td>0.5</td>\n",
       "    </tr>\n",
       "    <tr>\n",
       "      <th>1</th>\n",
       "      <td>0017242f54ececa4512b4d7937d1e21e.jpg</td>\n",
       "      <td>0.5</td>\n",
       "    </tr>\n",
       "    <tr>\n",
       "      <th>2</th>\n",
       "      <td>001ee6d8564003107853118ab87df407.jpg</td>\n",
       "      <td>0.5</td>\n",
       "    </tr>\n",
       "    <tr>\n",
       "      <th>3</th>\n",
       "      <td>002e175c3c1e060769475f52182583d0.jpg</td>\n",
       "      <td>0.5</td>\n",
       "    </tr>\n",
       "    <tr>\n",
       "      <th>4</th>\n",
       "      <td>0036e44a7e8f7218e9bc7bf8137e4943.jpg</td>\n",
       "      <td>0.5</td>\n",
       "    </tr>\n",
       "  </tbody>\n",
       "</table>\n",
       "</div>"
      ],
      "text/plain": [
       "                                     id  has_cactus\n",
       "0  000940378805c44108d287872b2f04ce.jpg         0.5\n",
       "1  0017242f54ececa4512b4d7937d1e21e.jpg         0.5\n",
       "2  001ee6d8564003107853118ab87df407.jpg         0.5\n",
       "3  002e175c3c1e060769475f52182583d0.jpg         0.5\n",
       "4  0036e44a7e8f7218e9bc7bf8137e4943.jpg         0.5"
      ]
     },
     "execution_count": 5,
     "metadata": {},
     "output_type": "execute_result"
    }
   ],
   "source": [
    "submission.head()"
   ]
  },
  {
   "cell_type": "code",
   "execution_count": 6,
   "id": "0663cf73",
   "metadata": {
    "execution": {
     "iopub.execute_input": "2024-10-11T08:28:42.875354Z",
     "iopub.status.busy": "2024-10-11T08:28:42.874601Z",
     "iopub.status.idle": "2024-10-11T08:28:42.883364Z",
     "shell.execute_reply": "2024-10-11T08:28:42.882523Z"
    },
    "papermill": {
     "duration": 0.024381,
     "end_time": "2024-10-11T08:28:42.885449",
     "exception": false,
     "start_time": "2024-10-11T08:28:42.861068",
     "status": "completed"
    },
    "tags": []
   },
   "outputs": [
    {
     "name": "stdout",
     "output_type": "stream",
     "text": [
      "<class 'pandas.core.frame.DataFrame'>\n",
      "RangeIndex: 4000 entries, 0 to 3999\n",
      "Data columns (total 2 columns):\n",
      " #   Column      Non-Null Count  Dtype  \n",
      "---  ------      --------------  -----  \n",
      " 0   id          4000 non-null   object \n",
      " 1   has_cactus  4000 non-null   float64\n",
      "dtypes: float64(1), object(1)\n",
      "memory usage: 62.6+ KB\n"
     ]
    }
   ],
   "source": [
    "submission.info()"
   ]
  },
  {
   "cell_type": "code",
   "execution_count": 7,
   "id": "f8ee9054",
   "metadata": {
    "execution": {
     "iopub.execute_input": "2024-10-11T08:28:42.911626Z",
     "iopub.status.busy": "2024-10-11T08:28:42.911299Z",
     "iopub.status.idle": "2024-10-11T08:28:42.922818Z",
     "shell.execute_reply": "2024-10-11T08:28:42.921895Z"
    },
    "papermill": {
     "duration": 0.026637,
     "end_time": "2024-10-11T08:28:42.924738",
     "exception": false,
     "start_time": "2024-10-11T08:28:42.898101",
     "status": "completed"
    },
    "tags": []
   },
   "outputs": [
    {
     "data": {
      "text/html": [
       "<div>\n",
       "<style scoped>\n",
       "    .dataframe tbody tr th:only-of-type {\n",
       "        vertical-align: middle;\n",
       "    }\n",
       "\n",
       "    .dataframe tbody tr th {\n",
       "        vertical-align: top;\n",
       "    }\n",
       "\n",
       "    .dataframe thead th {\n",
       "        text-align: right;\n",
       "    }\n",
       "</style>\n",
       "<table border=\"1\" class=\"dataframe\">\n",
       "  <thead>\n",
       "    <tr style=\"text-align: right;\">\n",
       "      <th></th>\n",
       "      <th>id</th>\n",
       "      <th>has_cactus</th>\n",
       "    </tr>\n",
       "  </thead>\n",
       "  <tbody>\n",
       "    <tr>\n",
       "      <th>0</th>\n",
       "      <td>False</td>\n",
       "      <td>False</td>\n",
       "    </tr>\n",
       "    <tr>\n",
       "      <th>1</th>\n",
       "      <td>False</td>\n",
       "      <td>False</td>\n",
       "    </tr>\n",
       "    <tr>\n",
       "      <th>2</th>\n",
       "      <td>False</td>\n",
       "      <td>False</td>\n",
       "    </tr>\n",
       "    <tr>\n",
       "      <th>3</th>\n",
       "      <td>False</td>\n",
       "      <td>False</td>\n",
       "    </tr>\n",
       "    <tr>\n",
       "      <th>4</th>\n",
       "      <td>False</td>\n",
       "      <td>False</td>\n",
       "    </tr>\n",
       "    <tr>\n",
       "      <th>...</th>\n",
       "      <td>...</td>\n",
       "      <td>...</td>\n",
       "    </tr>\n",
       "    <tr>\n",
       "      <th>17495</th>\n",
       "      <td>False</td>\n",
       "      <td>False</td>\n",
       "    </tr>\n",
       "    <tr>\n",
       "      <th>17496</th>\n",
       "      <td>False</td>\n",
       "      <td>False</td>\n",
       "    </tr>\n",
       "    <tr>\n",
       "      <th>17497</th>\n",
       "      <td>False</td>\n",
       "      <td>False</td>\n",
       "    </tr>\n",
       "    <tr>\n",
       "      <th>17498</th>\n",
       "      <td>False</td>\n",
       "      <td>False</td>\n",
       "    </tr>\n",
       "    <tr>\n",
       "      <th>17499</th>\n",
       "      <td>False</td>\n",
       "      <td>False</td>\n",
       "    </tr>\n",
       "  </tbody>\n",
       "</table>\n",
       "<p>17500 rows × 2 columns</p>\n",
       "</div>"
      ],
      "text/plain": [
       "          id  has_cactus\n",
       "0      False       False\n",
       "1      False       False\n",
       "2      False       False\n",
       "3      False       False\n",
       "4      False       False\n",
       "...      ...         ...\n",
       "17495  False       False\n",
       "17496  False       False\n",
       "17497  False       False\n",
       "17498  False       False\n",
       "17499  False       False\n",
       "\n",
       "[17500 rows x 2 columns]"
      ]
     },
     "execution_count": 7,
     "metadata": {},
     "output_type": "execute_result"
    }
   ],
   "source": [
    "train.isnull()"
   ]
  },
  {
   "cell_type": "code",
   "execution_count": 8,
   "id": "d0d9b065",
   "metadata": {
    "execution": {
     "iopub.execute_input": "2024-10-11T08:28:42.951052Z",
     "iopub.status.busy": "2024-10-11T08:28:42.950771Z",
     "iopub.status.idle": "2024-10-11T08:28:43.141720Z",
     "shell.execute_reply": "2024-10-11T08:28:43.140304Z"
    },
    "papermill": {
     "duration": 0.209544,
     "end_time": "2024-10-11T08:28:43.146853",
     "exception": false,
     "start_time": "2024-10-11T08:28:42.937309",
     "status": "completed"
    },
    "tags": []
   },
   "outputs": [
    {
     "data": {
      "text/plain": [
       "([<matplotlib.patches.Wedge at 0x78764d520040>,\n",
       "  <matplotlib.patches.Wedge at 0x78764d4e3f10>],\n",
       " [Text(-0.7793519565739234, 0.7762799287527649, 'has_cactus'),\n",
       "  Text(0.7793519929142085, -0.776279892268666, \"has't cactus\")],\n",
       " [Text(-0.42510106722213997, 0.42342541568332626, '75%'),\n",
       "  Text(0.4251010870441137, -0.42342539578290866, '25%')])"
      ]
     },
     "execution_count": 8,
     "metadata": {},
     "output_type": "execute_result"
    },
    {
     "data": {
      "image/png": "[encoded data removed]",
      "text/plain": [
       "<Figure size 700x800 with 1 Axes>"
      ]
     },
     "metadata": {},
     "output_type": "display_data"
    }
   ],
   "source": [
    "mpl.rc('font', size = 15)\n",
    "plt.figure(figsize = (7, 8))\n",
    "\n",
    "label = ['has_cactus', 'has\\'t cactus']\n",
    "plt.pie(train['has_cactus'].value_counts(), labels = label, autopct = '%1.f%%')"
   ]
  },
  {
   "cell_type": "code",
   "execution_count": 9,
   "id": "bc215e6b",
   "metadata": {
    "execution": {
     "iopub.execute_input": "2024-10-11T08:28:43.197782Z",
     "iopub.status.busy": "2024-10-11T08:28:43.197451Z",
     "iopub.status.idle": "2024-10-11T08:28:45.980463Z",
     "shell.execute_reply": "2024-10-11T08:28:45.979704Z"
    },
    "papermill": {
     "duration": 2.807929,
     "end_time": "2024-10-11T08:28:45.982816",
     "exception": false,
     "start_time": "2024-10-11T08:28:43.174887",
     "status": "completed"
    },
    "tags": []
   },
   "outputs": [],
   "source": [
    "with ZipFile(data_path + 'train.zip') as zipper :\n",
    "    zipper.extractall()\n",
    "\n",
    "with ZipFile(data_path + 'test.zip') as zipper :\n",
    "    zipper.extractall()"
   ]
  },
  {
   "cell_type": "code",
   "execution_count": 10,
   "id": "5baac6c8",
   "metadata": {
    "execution": {
     "iopub.execute_input": "2024-10-11T08:28:46.011359Z",
     "iopub.status.busy": "2024-10-11T08:28:46.011068Z",
     "iopub.status.idle": "2024-10-11T08:28:46.031186Z",
     "shell.execute_reply": "2024-10-11T08:28:46.030114Z"
    },
    "papermill": {
     "duration": 0.036568,
     "end_time": "2024-10-11T08:28:46.033223",
     "exception": false,
     "start_time": "2024-10-11T08:28:45.996655",
     "status": "completed"
    },
    "tags": []
   },
   "outputs": [
    {
     "name": "stdout",
     "output_type": "stream",
     "text": [
      "훈련 데이터 개수 : 17500\n",
      "훈련 테스트 개수 : 4000\n"
     ]
    }
   ],
   "source": [
    "num_train = len(os.listdir('train/'))\n",
    "num_test = len(os.listdir('test/'))\n",
    "\n",
    "print(f'훈련 데이터 개수 : {num_train}')\n",
    "print(f'훈련 테스트 개수 : {num_test}')"
   ]
  },
  {
   "cell_type": "code",
   "execution_count": 11,
   "id": "3a17a797",
   "metadata": {
    "execution": {
     "iopub.execute_input": "2024-10-11T08:28:46.060796Z",
     "iopub.status.busy": "2024-10-11T08:28:46.060480Z",
     "iopub.status.idle": "2024-10-11T08:28:46.067097Z",
     "shell.execute_reply": "2024-10-11T08:28:46.066318Z"
    },
    "papermill": {
     "duration": 0.022483,
     "end_time": "2024-10-11T08:28:46.068970",
     "exception": false,
     "start_time": "2024-10-11T08:28:46.046487",
     "status": "completed"
    },
    "tags": []
   },
   "outputs": [],
   "source": [
    "def show_image(img_ids, rows = 2, cols = 6) :\n",
    "    assert len(img_ids) <= rows * cols\n",
    "    \n",
    "    mpl.rc('font', size = 15)\n",
    "    plt.figure(figsize = (13, 15))\n",
    "    grid = gridspec.GridSpec(2, 6)\n",
    "    \n",
    "    last_has_cactus_img_name = train[train['has_cactus'] ==0]['id'][-12:]\n",
    "    \n",
    "    for idx, img_name in enumerate(last_has_cactus_img_name) :\n",
    "        img_path = 'train/' + img_name\n",
    "        image = cv2.imread(img_path)\n",
    "        image = cv2.cvtColor(image, cv2.COLOR_BGR2RGB)\n",
    "        ax = plt.subplot(grid[idx])\n",
    "        ax.imshow(image)"
   ]
  },
  {
   "cell_type": "code",
   "execution_count": 12,
   "id": "70078000",
   "metadata": {
    "execution": {
     "iopub.execute_input": "2024-10-11T08:28:46.096602Z",
     "iopub.status.busy": "2024-10-11T08:28:46.096312Z",
     "iopub.status.idle": "2024-10-11T08:28:47.418400Z",
     "shell.execute_reply": "2024-10-11T08:28:47.417543Z"
    },
    "papermill": {
     "duration": 1.338942,
     "end_time": "2024-10-11T08:28:47.421036",
     "exception": false,
     "start_time": "2024-10-11T08:28:46.082094",
     "status": "completed"
    },
    "tags": []
   },
   "outputs": [
    {
     "data": {
      "image/png": "[encoded data removed]",
      "text/plain": [
       "<Figure size 700x800 with 12 Axes>"
      ]
     },
     "metadata": {},
     "output_type": "display_data"
    }
   ],
   "source": [
    "mpl.rc('font', size = 15)\n",
    "plt.figure(figsize = (7, 8))\n",
    "grid = gridspec.GridSpec(2, 6)\n",
    "\n",
    "last_has_cactus_img_name = train[train['has_cactus']==0]['id'][-12:]\n",
    "\n",
    "for idx, img_name in enumerate(last_has_cactus_img_name) : #이미지 불러오기\n",
    "    path = 'train/' + img_name\n",
    "    image = cv2.imread(path)\n",
    "    image = cv2.cvtColor(image, cv2.COLOR_BGR2RGB)\n",
    "    ax = plt.subplot(grid[idx])\n",
    "    ax.imshow(image)"
   ]
  },
  {
   "cell_type": "code",
   "execution_count": 13,
   "id": "09f96c35",
   "metadata": {
    "execution": {
     "iopub.execute_input": "2024-10-11T08:28:47.452002Z",
     "iopub.status.busy": "2024-10-11T08:28:47.451276Z",
     "iopub.status.idle": "2024-10-11T08:28:49.006521Z",
     "shell.execute_reply": "2024-10-11T08:28:49.005629Z"
    },
    "papermill": {
     "duration": 1.574114,
     "end_time": "2024-10-11T08:28:49.009959",
     "exception": false,
     "start_time": "2024-10-11T08:28:47.435845",
     "status": "completed"
    },
    "tags": []
   },
   "outputs": [
    {
     "data": {
      "image/png": "[encoded data removed]",
      "text/plain": [
       "<Figure size 700x800 with 12 Axes>"
      ]
     },
     "metadata": {},
     "output_type": "display_data"
    }
   ],
   "source": [
    "mpl.rc('font', size = 15)\n",
    "plt.figure(figsize = (7, 8))\n",
    "grid = gridspec.GridSpec(2, 6)\n",
    "\n",
    "last_has_cactus_img_name = train[train['has_cactus']==1]['id'][-12:]\n",
    "\n",
    "for idx, img_name in enumerate(last_has_cactus_img_name) : #이미지 불러오기\n",
    "    path = 'train/' + img_name\n",
    "    image = cv2.imread(path)\n",
    "    image = cv2.cvtColor(image, cv2.COLOR_BGR2RGB)\n",
    "    ax = plt.subplot(grid[idx])\n",
    "    ax.imshow(image)"
   ]
  },
  {
   "cell_type": "markdown",
   "id": "88ef216e",
   "metadata": {
    "papermill": {
     "duration": 0.016349,
     "end_time": "2024-10-11T08:28:49.043678",
     "exception": false,
     "start_time": "2024-10-11T08:28:49.027329",
     "status": "completed"
    },
    "tags": []
   },
   "source": [
    "# GPU 설정"
   ]
  },
  {
   "cell_type": "code",
   "execution_count": 14,
   "id": "7dd392a7",
   "metadata": {
    "execution": {
     "iopub.execute_input": "2024-10-11T08:28:49.077818Z",
     "iopub.status.busy": "2024-10-11T08:28:49.077479Z",
     "iopub.status.idle": "2024-10-11T08:28:49.090440Z",
     "shell.execute_reply": "2024-10-11T08:28:49.089580Z"
    },
    "papermill": {
     "duration": 0.032266,
     "end_time": "2024-10-11T08:28:49.092350",
     "exception": false,
     "start_time": "2024-10-11T08:28:49.060084",
     "status": "completed"
    },
    "tags": []
   },
   "outputs": [],
   "source": [
    "seed = 50\n",
    "os.environ['PYTHONHASHSEED'] = str(seed)\n",
    "random.seed(seed)\n",
    "np.random.seed(seed)\n",
    "torch.manual_seed(seed)\n",
    "torch.cuda.manual_seed(seed)\n",
    "torch.cuda.manual_seed_all(seed)\n",
    "torch.backends.cudnn.deterministic = True\n",
    "torch.backends.cudnn.benchmark = False\n",
    "torch.backends.cudnn.enabled = False"
   ]
  },
  {
   "cell_type": "code",
   "execution_count": 15,
   "id": "3c8b0534",
   "metadata": {
    "execution": {
     "iopub.execute_input": "2024-10-11T08:28:49.126450Z",
     "iopub.status.busy": "2024-10-11T08:28:49.126175Z",
     "iopub.status.idle": "2024-10-11T08:28:49.194223Z",
     "shell.execute_reply": "2024-10-11T08:28:49.193354Z"
    },
    "papermill": {
     "duration": 0.087151,
     "end_time": "2024-10-11T08:28:49.196061",
     "exception": false,
     "start_time": "2024-10-11T08:28:49.108910",
     "status": "completed"
    },
    "tags": []
   },
   "outputs": [
    {
     "data": {
      "text/plain": [
       "device(type='cuda')"
      ]
     },
     "execution_count": 15,
     "metadata": {},
     "output_type": "execute_result"
    }
   ],
   "source": [
    "device = torch.device('cuda' if torch.cuda.is_available() else 'cpu')\n",
    "device"
   ]
  },
  {
   "cell_type": "code",
   "execution_count": 16,
   "id": "a50b8218",
   "metadata": {
    "execution": {
     "iopub.execute_input": "2024-10-11T08:28:49.230283Z",
     "iopub.status.busy": "2024-10-11T08:28:49.230004Z",
     "iopub.status.idle": "2024-10-11T08:28:49.237256Z",
     "shell.execute_reply": "2024-10-11T08:28:49.236391Z"
    },
    "papermill": {
     "duration": 0.026367,
     "end_time": "2024-10-11T08:28:49.239063",
     "exception": false,
     "start_time": "2024-10-11T08:28:49.212696",
     "status": "completed"
    },
    "tags": []
   },
   "outputs": [],
   "source": [
    "class ImageDataset(Dataset) :\n",
    "    def __init__(self, df, img_dir = './', transform = None, is_test = False) :\n",
    "        super().__init__()\n",
    "        self.img_dir = img_dir\n",
    "        self.transform = transform\n",
    "        self.df = df\n",
    "        self.is_test = is_test\n",
    "    \n",
    "    def __len__(self) :\n",
    "        return len(self.df)\n",
    "    \n",
    "    def __getitem__(self, idx) :\n",
    "        img_id = self.df.iloc[idx, 0]\n",
    "        img_path = self.img_dir + img_id\n",
    "        image = cv2.imread(img_path)\n",
    "        image = cv2.cvtColor(image, cv2.COLOR_BGR2RGB)\n",
    "        label = self.df.iloc[idx, 1]\n",
    "        \n",
    "        if self.transform is not None :\n",
    "            image = self.transform(image)\n",
    "        return image, label"
   ]
  },
  {
   "cell_type": "code",
   "execution_count": 17,
   "id": "c9f8c64d",
   "metadata": {
    "execution": {
     "iopub.execute_input": "2024-10-11T08:28:49.273107Z",
     "iopub.status.busy": "2024-10-11T08:28:49.272815Z",
     "iopub.status.idle": "2024-10-11T08:28:49.286598Z",
     "shell.execute_reply": "2024-10-11T08:28:49.285729Z"
    },
    "papermill": {
     "duration": 0.033037,
     "end_time": "2024-10-11T08:28:49.288529",
     "exception": false,
     "start_time": "2024-10-11T08:28:49.255492",
     "status": "completed"
    },
    "tags": []
   },
   "outputs": [],
   "source": [
    "train, valid = train_test_split(train,\n",
    "                               test_size = 0.1,\n",
    "                               stratify = train['has_cactus'],\n",
    "                               random_state = 50)"
   ]
  },
  {
   "cell_type": "code",
   "execution_count": 18,
   "id": "377d5785",
   "metadata": {
    "execution": {
     "iopub.execute_input": "2024-10-11T08:28:49.323041Z",
     "iopub.status.busy": "2024-10-11T08:28:49.322740Z",
     "iopub.status.idle": "2024-10-11T08:28:49.326574Z",
     "shell.execute_reply": "2024-10-11T08:28:49.325849Z"
    },
    "papermill": {
     "duration": 0.023395,
     "end_time": "2024-10-11T08:28:49.328361",
     "exception": false,
     "start_time": "2024-10-11T08:28:49.304966",
     "status": "completed"
    },
    "tags": []
   },
   "outputs": [],
   "source": [
    "transform = transforms.ToTensor()"
   ]
  },
  {
   "cell_type": "code",
   "execution_count": 19,
   "id": "2858f8ca",
   "metadata": {
    "execution": {
     "iopub.execute_input": "2024-10-11T08:28:49.362557Z",
     "iopub.status.busy": "2024-10-11T08:28:49.362292Z",
     "iopub.status.idle": "2024-10-11T08:28:49.366559Z",
     "shell.execute_reply": "2024-10-11T08:28:49.365770Z"
    },
    "papermill": {
     "duration": 0.02355,
     "end_time": "2024-10-11T08:28:49.368474",
     "exception": false,
     "start_time": "2024-10-11T08:28:49.344924",
     "status": "completed"
    },
    "tags": []
   },
   "outputs": [],
   "source": [
    "dataset_train = ImageDataset(df = train, img_dir = 'train/', transform = transform)\n",
    "dataset_valid = ImageDataset(df = valid, img_dir = 'train/', transform = transform)"
   ]
  },
  {
   "cell_type": "code",
   "execution_count": 20,
   "id": "7a94a25c",
   "metadata": {
    "execution": {
     "iopub.execute_input": "2024-10-11T08:28:49.403420Z",
     "iopub.status.busy": "2024-10-11T08:28:49.403155Z",
     "iopub.status.idle": "2024-10-11T08:28:49.407628Z",
     "shell.execute_reply": "2024-10-11T08:28:49.406803Z"
    },
    "papermill": {
     "duration": 0.023849,
     "end_time": "2024-10-11T08:28:49.409502",
     "exception": false,
     "start_time": "2024-10-11T08:28:49.385653",
     "status": "completed"
    },
    "tags": []
   },
   "outputs": [],
   "source": [
    "#데이터 로드 생성\n",
    "loader_train = DataLoader(dataset = dataset_train, batch_size = 16, shuffle = True)\n",
    "loader_valid = DataLoader(dataset = dataset_valid, batch_size = 16, shuffle = True)"
   ]
  },
  {
   "cell_type": "markdown",
   "id": "bbf3ac4e",
   "metadata": {
    "papermill": {
     "duration": 0.016522,
     "end_time": "2024-10-11T08:28:49.442393",
     "exception": false,
     "start_time": "2024-10-11T08:28:49.425871",
     "status": "completed"
    },
    "tags": []
   },
   "source": [
    "# 이미지 차원 수 점검"
   ]
  },
  {
   "cell_type": "code",
   "execution_count": 21,
   "id": "a4bb4912",
   "metadata": {
    "execution": {
     "iopub.execute_input": "2024-10-11T08:28:49.477319Z",
     "iopub.status.busy": "2024-10-11T08:28:49.476705Z",
     "iopub.status.idle": "2024-10-11T08:28:49.480377Z",
     "shell.execute_reply": "2024-10-11T08:28:49.479617Z"
    },
    "papermill": {
     "duration": 0.022857,
     "end_time": "2024-10-11T08:28:49.482251",
     "exception": false,
     "start_time": "2024-10-11T08:28:49.459394",
     "status": "completed"
    },
    "tags": []
   },
   "outputs": [],
   "source": [
    "# 만약 ValueError: Expected input batch_size (2) to match target batch_size (32)\n",
    "# 이러한 오류가 발생했으면 batch_size의 크기가 너무 큰지 확인(batch 크기를 조절)"
   ]
  },
  {
   "cell_type": "markdown",
   "id": "e68d0369",
   "metadata": {
    "papermill": {
     "duration": 0.016394,
     "end_time": "2024-10-11T08:28:49.515012",
     "exception": false,
     "start_time": "2024-10-11T08:28:49.498618",
     "status": "completed"
    },
    "tags": []
   },
   "source": [
    "# 모델 생성(CNN or RNN)"
   ]
  },
  {
   "cell_type": "code",
   "execution_count": 22,
   "id": "cdac3c8d",
   "metadata": {
    "execution": {
     "iopub.execute_input": "2024-10-11T08:28:49.549090Z",
     "iopub.status.busy": "2024-10-11T08:28:49.548829Z",
     "iopub.status.idle": "2024-10-11T08:28:49.556339Z",
     "shell.execute_reply": "2024-10-11T08:28:49.555507Z"
    },
    "papermill": {
     "duration": 0.026833,
     "end_time": "2024-10-11T08:28:49.558243",
     "exception": false,
     "start_time": "2024-10-11T08:28:49.531410",
     "status": "completed"
    },
    "tags": []
   },
   "outputs": [],
   "source": [
    "class Model(nn.Module) :\n",
    "    \n",
    "    def __init__(self) :\n",
    "        super(Model, self).__init__()\n",
    "    \n",
    "# 첫번째 합성곱 계층\n",
    "        self.conv1 = nn.Conv2d(in_channels = 3, out_channels = 32, kernel_size = 3, padding = 2)\n",
    "# 두번째 합성곱 계층\n",
    "        self.conv2 = nn.Conv2d(in_channels = 32, out_channels = 64, kernel_size = 3, padding = 2)\n",
    "# 최대 플립 계층\n",
    "        self.max_pool = nn.MaxPool2d(kernel_size = 2)\n",
    "# 평균 플립 계층\n",
    "        self.avg_pool = nn.AvgPool2d(kernel_size = 2)\n",
    "# 전결합 계층\n",
    "        self.fc = nn.Linear(in_features = 64 * 4 * 4, out_features = 2)\n",
    "    \n",
    "#순전파 계층\n",
    "    def forward(self, x) :\n",
    "    \n",
    "        x =  self.max_pool(F.relu(self.conv1(x)))\n",
    "    \n",
    "        x =  self.max_pool(F.relu(self.conv2(x)))\n",
    "    \n",
    "        x =  self.avg_pool(x)\n",
    "    \n",
    "        x =  x.view(-1, 64 * 4 * 4)\n",
    "    \n",
    "        x =  self.fc(x)\n",
    "    \n",
    "        return x "
   ]
  },
  {
   "cell_type": "code",
   "execution_count": 23,
   "id": "e4d7ab5b",
   "metadata": {
    "execution": {
     "iopub.execute_input": "2024-10-11T08:28:49.592445Z",
     "iopub.status.busy": "2024-10-11T08:28:49.592172Z",
     "iopub.status.idle": "2024-10-11T08:28:49.785017Z",
     "shell.execute_reply": "2024-10-11T08:28:49.784114Z"
    },
    "papermill": {
     "duration": 0.212414,
     "end_time": "2024-10-11T08:28:49.787139",
     "exception": false,
     "start_time": "2024-10-11T08:28:49.574725",
     "status": "completed"
    },
    "tags": []
   },
   "outputs": [
    {
     "data": {
      "text/plain": [
       "Model(\n",
       "  (conv1): Conv2d(3, 32, kernel_size=(3, 3), stride=(1, 1), padding=(2, 2))\n",
       "  (conv2): Conv2d(32, 64, kernel_size=(3, 3), stride=(1, 1), padding=(2, 2))\n",
       "  (max_pool): MaxPool2d(kernel_size=2, stride=2, padding=0, dilation=1, ceil_mode=False)\n",
       "  (avg_pool): AvgPool2d(kernel_size=2, stride=2, padding=0)\n",
       "  (fc): Linear(in_features=1024, out_features=2, bias=True)\n",
       ")"
      ]
     },
     "execution_count": 23,
     "metadata": {},
     "output_type": "execute_result"
    }
   ],
   "source": [
    "model = Model().to(device)\n",
    "model"
   ]
  },
  {
   "cell_type": "code",
   "execution_count": 24,
   "id": "3ccbae87",
   "metadata": {
    "execution": {
     "iopub.execute_input": "2024-10-11T08:28:49.823723Z",
     "iopub.status.busy": "2024-10-11T08:28:49.823387Z",
     "iopub.status.idle": "2024-10-11T08:28:49.827621Z",
     "shell.execute_reply": "2024-10-11T08:28:49.826763Z"
    },
    "papermill": {
     "duration": 0.024096,
     "end_time": "2024-10-11T08:28:49.829525",
     "exception": false,
     "start_time": "2024-10-11T08:28:49.805429",
     "status": "completed"
    },
    "tags": []
   },
   "outputs": [],
   "source": [
    "criterion = nn.CrossEntropyLoss()"
   ]
  },
  {
   "cell_type": "code",
   "execution_count": 25,
   "id": "d7b314d3",
   "metadata": {
    "execution": {
     "iopub.execute_input": "2024-10-11T08:28:49.863965Z",
     "iopub.status.busy": "2024-10-11T08:28:49.863675Z",
     "iopub.status.idle": "2024-10-11T08:28:49.868177Z",
     "shell.execute_reply": "2024-10-11T08:28:49.867354Z"
    },
    "papermill": {
     "duration": 0.023951,
     "end_time": "2024-10-11T08:28:49.870023",
     "exception": false,
     "start_time": "2024-10-11T08:28:49.846072",
     "status": "completed"
    },
    "tags": []
   },
   "outputs": [],
   "source": [
    "optimizer = torch.optim.SGD(model.parameters(), lr = 0.01)"
   ]
  },
  {
   "cell_type": "code",
   "execution_count": 26,
   "id": "936e5406",
   "metadata": {
    "execution": {
     "iopub.execute_input": "2024-10-11T08:28:49.904238Z",
     "iopub.status.busy": "2024-10-11T08:28:49.903975Z",
     "iopub.status.idle": "2024-10-11T08:29:51.732369Z",
     "shell.execute_reply": "2024-10-11T08:29:51.731260Z"
    },
    "papermill": {
     "duration": 61.848066,
     "end_time": "2024-10-11T08:29:51.734696",
     "exception": false,
     "start_time": "2024-10-11T08:28:49.886630",
     "status": "completed"
    },
    "tags": []
   },
   "outputs": [
    {
     "data": {
      "application/vnd.jupyter.widget-view+json": {
       "model_id": "81e5891d87a9411bba8c59975334f60b",
       "version_major": 2,
       "version_minor": 0
      },
      "text/plain": [
       "  0%|          | 0/985 [00:00<?, ?it/s]"
      ]
     },
     "metadata": {},
     "output_type": "display_data"
    },
    {
     "data": {
      "application/vnd.jupyter.widget-view+json": {
       "model_id": "ae42b0d22317421c9332cb7eb7c1a2e4",
       "version_major": 2,
       "version_minor": 0
      },
      "text/plain": [
       "  0%|          | 0/985 [00:00<?, ?it/s]"
      ]
     },
     "metadata": {},
     "output_type": "display_data"
    },
    {
     "data": {
      "application/vnd.jupyter.widget-view+json": {
       "model_id": "3aa5ed9160c2441ab58f43a17540a219",
       "version_major": 2,
       "version_minor": 0
      },
      "text/plain": [
       "  0%|          | 0/985 [00:00<?, ?it/s]"
      ]
     },
     "metadata": {},
     "output_type": "display_data"
    },
    {
     "data": {
      "application/vnd.jupyter.widget-view+json": {
       "model_id": "ba1e7925b4b8404cba8d53133b3895b4",
       "version_major": 2,
       "version_minor": 0
      },
      "text/plain": [
       "  0%|          | 0/985 [00:00<?, ?it/s]"
      ]
     },
     "metadata": {},
     "output_type": "display_data"
    },
    {
     "data": {
      "application/vnd.jupyter.widget-view+json": {
       "model_id": "e8f61d70c3e847fc8bc8df8d17b92927",
       "version_major": 2,
       "version_minor": 0
      },
      "text/plain": [
       "  0%|          | 0/985 [00:00<?, ?it/s]"
      ]
     },
     "metadata": {},
     "output_type": "display_data"
    },
    {
     "data": {
      "application/vnd.jupyter.widget-view+json": {
       "model_id": "06639529b22445acb9abbcd732540d96",
       "version_major": 2,
       "version_minor": 0
      },
      "text/plain": [
       "  0%|          | 0/985 [00:00<?, ?it/s]"
      ]
     },
     "metadata": {},
     "output_type": "display_data"
    },
    {
     "data": {
      "application/vnd.jupyter.widget-view+json": {
       "model_id": "9c0e2dfc9bfa4806a4f49fc70f28bbb9",
       "version_major": 2,
       "version_minor": 0
      },
      "text/plain": [
       "  0%|          | 0/985 [00:00<?, ?it/s]"
      ]
     },
     "metadata": {},
     "output_type": "display_data"
    },
    {
     "data": {
      "application/vnd.jupyter.widget-view+json": {
       "model_id": "9e62ccb5e5a241529c3559d90103e946",
       "version_major": 2,
       "version_minor": 0
      },
      "text/plain": [
       "  0%|          | 0/985 [00:00<?, ?it/s]"
      ]
     },
     "metadata": {},
     "output_type": "display_data"
    },
    {
     "data": {
      "application/vnd.jupyter.widget-view+json": {
       "model_id": "647ed3fbb7a544a7a071559b9579d1f4",
       "version_major": 2,
       "version_minor": 0
      },
      "text/plain": [
       "  0%|          | 0/985 [00:00<?, ?it/s]"
      ]
     },
     "metadata": {},
     "output_type": "display_data"
    },
    {
     "data": {
      "application/vnd.jupyter.widget-view+json": {
       "model_id": "e62364df046b4b23b5d84736b99408e8",
       "version_major": 2,
       "version_minor": 0
      },
      "text/plain": [
       "  0%|          | 0/985 [00:00<?, ?it/s]"
      ]
     },
     "metadata": {},
     "output_type": "display_data"
    },
    {
     "name": "stdout",
     "output_type": "stream",
     "text": [
      "에폭 [10/10] - 손실값 : 0.1105\n",
      "true_array [0 1 1 ... 1 0 1]\n",
      "preds_array [0.00203526 0.9999845  0.55632305 ... 0.99726355 0.9860934  0.97233754]\n",
      "검증 데이터 ROC AUC : 0.9928\n"
     ]
    }
   ],
   "source": [
    "epochs = 10\n",
    "\n",
    "for epoch in range(epochs) :\n",
    "    \n",
    "    epoch_loss = 0\n",
    "    \n",
    "    for images, labels in tqdm (loader_train) :\n",
    "        \n",
    "            images = images.to(device)\n",
    "            labels = labels.to(device)\n",
    "        \n",
    "            #optimizer 내 기울기 초기화\n",
    "            optimizer.zero_grad()\n",
    "        \n",
    "            #순전파 : 이미지 데이터를 신경망 모델의 입력값으로 사용해서 출력\n",
    "            outputs = model(images)\n",
    "        \n",
    "            #손실 함수를 활용해 outputs, labels를 계산\n",
    "            loss = criterion(outputs, labels)\n",
    "        \n",
    "            #현실 배치에서의 출력파 수행\n",
    "            epoch_loss += loss.item()\n",
    "        \n",
    "            #역전파 수행\n",
    "            loss.backward()\n",
    "            #가중치 수행\n",
    "            optimizer.step()\n",
    "        \n",
    "#훈련 데이터 예측        \n",
    "print(f'에폭 [{epoch+1}/{epochs}] - 손실값 : {epoch_loss/len(loader_train):.4f}')\n",
    "\n",
    "####################################################################################################\n",
    "#검증\n",
    "true_list = []\n",
    "preds_list = []\n",
    "\n",
    "model.eval()\n",
    "\n",
    "with torch.no_grad() :\n",
    "    \n",
    "    for images, labels in loader_valid :\n",
    "        \n",
    "        images = images.to(device)\n",
    "        labels = labels.to(device)\n",
    "        \n",
    "        outputs = model(images)\n",
    "        \n",
    "        preds = torch.softmax(outputs.cpu(), dim = 1)[:, 1].numpy()\n",
    "        true = labels.cpu().numpy()\n",
    "        \n",
    "        preds_list.extend(preds)\n",
    "        true_list.extend(true)\n",
    "        \n",
    "#list 배열을 array 배열로 변환\n",
    "preds_array = np.array(preds_list)\n",
    "true_array = np.array(true_list)\n",
    "    \n",
    "#형식 확인\n",
    "print(\"true_array\", true_array)\n",
    "print(\"preds_array\", preds_array)\n",
    "        \n",
    "print(f'검증 데이터 ROC AUC : {roc_auc_score(true_array, preds_array):.4f}')"
   ]
  },
  {
   "cell_type": "code",
   "execution_count": 27,
   "id": "0a24b1f7",
   "metadata": {
    "execution": {
     "iopub.execute_input": "2024-10-11T08:29:51.777491Z",
     "iopub.status.busy": "2024-10-11T08:29:51.777149Z",
     "iopub.status.idle": "2024-10-11T08:29:51.782006Z",
     "shell.execute_reply": "2024-10-11T08:29:51.781182Z"
    },
    "papermill": {
     "duration": 0.026706,
     "end_time": "2024-10-11T08:29:51.783892",
     "exception": false,
     "start_time": "2024-10-11T08:29:51.757186",
     "status": "completed"
    },
    "tags": []
   },
   "outputs": [],
   "source": [
    "dataset_test =  ImageDataset(df = submission, img_dir = 'test/', transform = transform)\n",
    "loader_test =   DataLoader(dataset = dataset_test, batch_size = 32, shuffle = False)"
   ]
  },
  {
   "cell_type": "code",
   "execution_count": 28,
   "id": "fc3b19a7",
   "metadata": {
    "execution": {
     "iopub.execute_input": "2024-10-11T08:29:51.822776Z",
     "iopub.status.busy": "2024-10-11T08:29:51.822103Z",
     "iopub.status.idle": "2024-10-11T08:29:52.361907Z",
     "shell.execute_reply": "2024-10-11T08:29:52.360896Z"
    },
    "papermill": {
     "duration": 0.562131,
     "end_time": "2024-10-11T08:29:52.364398",
     "exception": false,
     "start_time": "2024-10-11T08:29:51.802267",
     "status": "completed"
    },
    "tags": []
   },
   "outputs": [],
   "source": [
    "model.eval()\n",
    "\n",
    "preds = []\n",
    "\n",
    "with torch.no_grad() :\n",
    "    for images, _labels in loader_valid :\n",
    "        \n",
    "        images = images.to(device)\n",
    "        \n",
    "        outputs = model(images)\n",
    "        \n",
    "        preds_part = torch.softmax(outputs.cpu(), dim = 1)[:, 1].tolist()\n",
    "        \n",
    "        preds.extend(preds_part)        "
   ]
  },
  {
   "cell_type": "markdown",
   "id": "cca433a2",
   "metadata": {
    "papermill": {
     "duration": 0.018913,
     "end_time": "2024-10-11T08:29:52.404051",
     "exception": false,
     "start_time": "2024-10-11T08:29:52.385138",
     "status": "completed"
    },
    "tags": []
   },
   "source": [
    "# 성능 개선"
   ]
  },
  {
   "cell_type": "code",
   "execution_count": 29,
   "id": "2d35033a",
   "metadata": {
    "execution": {
     "iopub.execute_input": "2024-10-11T08:29:52.444216Z",
     "iopub.status.busy": "2024-10-11T08:29:52.443309Z",
     "iopub.status.idle": "2024-10-11T08:29:52.449998Z",
     "shell.execute_reply": "2024-10-11T08:29:52.449064Z"
    },
    "papermill": {
     "duration": 0.028629,
     "end_time": "2024-10-11T08:29:52.452031",
     "exception": false,
     "start_time": "2024-10-11T08:29:52.423402",
     "status": "completed"
    },
    "tags": []
   },
   "outputs": [],
   "source": [
    "transform_train = transforms.Compose([\n",
    "    \n",
    "    transforms.ToTensor(),\n",
    "    transforms.Pad(32, padding_mode = 'symmetric'),\n",
    "    transforms.RandomRotation(10),\n",
    "    transforms.RandomVerticalFlip(),\n",
    "    transforms.RandomHorizontalFlip(),\n",
    "    transforms.Normalize((0.485, 0.456, 0.486), (0.224, 0.225, 0.229))\n",
    "])"
   ]
  },
  {
   "cell_type": "code",
   "execution_count": 30,
   "id": "ea223ebe",
   "metadata": {
    "execution": {
     "iopub.execute_input": "2024-10-11T08:29:52.491103Z",
     "iopub.status.busy": "2024-10-11T08:29:52.490290Z",
     "iopub.status.idle": "2024-10-11T08:29:52.495804Z",
     "shell.execute_reply": "2024-10-11T08:29:52.494894Z"
    },
    "papermill": {
     "duration": 0.027209,
     "end_time": "2024-10-11T08:29:52.497791",
     "exception": false,
     "start_time": "2024-10-11T08:29:52.470582",
     "status": "completed"
    },
    "tags": []
   },
   "outputs": [],
   "source": [
    "transform_test = transforms.Compose([\n",
    "    \n",
    "    transforms.ToTensor(),\n",
    "    transforms.Pad(32, padding_mode = 'symmetric'),\n",
    "    transforms.Normalize((0.485, 0.456, 0.486), (0.224, 0.225, 0.229))\n",
    "])"
   ]
  },
  {
   "cell_type": "code",
   "execution_count": 31,
   "id": "145f3ad5",
   "metadata": {
    "execution": {
     "iopub.execute_input": "2024-10-11T08:29:52.536425Z",
     "iopub.status.busy": "2024-10-11T08:29:52.536091Z",
     "iopub.status.idle": "2024-10-11T08:29:52.540736Z",
     "shell.execute_reply": "2024-10-11T08:29:52.539824Z"
    },
    "papermill": {
     "duration": 0.02647,
     "end_time": "2024-10-11T08:29:52.542729",
     "exception": false,
     "start_time": "2024-10-11T08:29:52.516259",
     "status": "completed"
    },
    "tags": []
   },
   "outputs": [],
   "source": [
    "dataset_train = ImageDataset(df = train, img_dir = 'train/', transform = transform)\n",
    "dataset_valid = ImageDataset(df = valid, img_dir = 'train/', transform = transform)"
   ]
  },
  {
   "cell_type": "code",
   "execution_count": 32,
   "id": "83c8f3aa",
   "metadata": {
    "execution": {
     "iopub.execute_input": "2024-10-11T08:29:52.581550Z",
     "iopub.status.busy": "2024-10-11T08:29:52.581208Z",
     "iopub.status.idle": "2024-10-11T08:29:52.586014Z",
     "shell.execute_reply": "2024-10-11T08:29:52.585128Z"
    },
    "papermill": {
     "duration": 0.026414,
     "end_time": "2024-10-11T08:29:52.587823",
     "exception": false,
     "start_time": "2024-10-11T08:29:52.561409",
     "status": "completed"
    },
    "tags": []
   },
   "outputs": [],
   "source": [
    "loader_train = DataLoader(dataset = dataset_train, batch_size = 32, shuffle = True)\n",
    "loader_valid = DataLoader(dataset = dataset_valid, batch_size = 32, shuffle = False)"
   ]
  },
  {
   "cell_type": "code",
   "execution_count": 33,
   "id": "938cc26a",
   "metadata": {
    "execution": {
     "iopub.execute_input": "2024-10-11T08:29:52.626633Z",
     "iopub.status.busy": "2024-10-11T08:29:52.626252Z",
     "iopub.status.idle": "2024-10-11T08:29:52.638307Z",
     "shell.execute_reply": "2024-10-11T08:29:52.637465Z"
    },
    "papermill": {
     "duration": 0.033773,
     "end_time": "2024-10-11T08:29:52.640169",
     "exception": false,
     "start_time": "2024-10-11T08:29:52.606396",
     "status": "completed"
    },
    "tags": []
   },
   "outputs": [],
   "source": [
    "class Model(nn.Module) :\n",
    "    \n",
    "    def __init__(self) :\n",
    "        \n",
    "        super(Model, self).__init__()\n",
    "        \n",
    "        #in_channels = \n",
    "        #out_channels = \n",
    "        \n",
    "        self.layer1 = nn.Sequential(nn.Conv2d(3, 32, kernel_size = 3, padding = 1),\n",
    "                                              nn.BatchNorm2d(32),\n",
    "                                              nn.LeakyReLU(),\n",
    "                                              nn.MaxPool2d(kernel_size = 2))\n",
    "        \n",
    "        self.layer2 = nn.Sequential(nn.Conv2d(32, 64, kernel_size = 3, padding = 1),\n",
    "                                              nn.BatchNorm2d(64),\n",
    "                                              nn.LeakyReLU(),\n",
    "                                              nn.MaxPool2d(kernel_size = 2))\n",
    "        \n",
    "        self.layer3 = nn.Sequential(nn.Conv2d(64, 128, kernel_size = 3, padding = 1),\n",
    "                                              nn.BatchNorm2d(128),\n",
    "                                              nn.LeakyReLU(),\n",
    "                                              nn.MaxPool2d(kernel_size = 2))\n",
    "        \n",
    "        self.layer4 = nn.Sequential(nn.Conv2d(128, 256, kernel_size = 3, padding = 1),\n",
    "                                              nn.BatchNorm2d(256),\n",
    "                                              nn.LeakyReLU(),\n",
    "                                              nn.MaxPool2d(kernel_size = 2))\n",
    "        \n",
    "        self.layer5 = nn.Sequential(nn.Conv2d(256, 512, kernel_size = 3, padding = 2),\n",
    "                                              nn.BatchNorm2d(512),\n",
    "                                              nn.LeakyReLU(),\n",
    "                                              nn.MaxPool2d(kernel_size = 2))\n",
    "        \n",
    "        self.avg_pool = nn.AvgPool2d(kernel_size = 2)\n",
    "        \n",
    "        \n",
    "        self.fc1 = nn.Linear(512 *1 *1, 64)\n",
    "        self.fc2 = nn.Linear(64, 4)\n",
    "        \n",
    "    \n",
    "    def forward(self, x) :\n",
    "        \n",
    "        x = self.layer1(x)\n",
    "        x = self.layer2(x)\n",
    "        x = self.layer3(x)\n",
    "        x = self.layer4(x)\n",
    "        x = self.layer5(x)\n",
    "        x = self.avg_pool(x)\n",
    "        x = x.view(-1, 512 *1 *1)\n",
    "        \n",
    "        x = self.fc1(x)\n",
    "        x = self.fc2(x)\n",
    "        return x\n",
    "    "
   ]
  },
  {
   "cell_type": "code",
   "execution_count": 34,
   "id": "e6f2e4ea",
   "metadata": {
    "execution": {
     "iopub.execute_input": "2024-10-11T08:29:52.678609Z",
     "iopub.status.busy": "2024-10-11T08:29:52.678287Z",
     "iopub.status.idle": "2024-10-11T08:29:52.702241Z",
     "shell.execute_reply": "2024-10-11T08:29:52.701412Z"
    },
    "papermill": {
     "duration": 0.045754,
     "end_time": "2024-10-11T08:29:52.704243",
     "exception": false,
     "start_time": "2024-10-11T08:29:52.658489",
     "status": "completed"
    },
    "tags": []
   },
   "outputs": [],
   "source": [
    "model = Model().to(device)"
   ]
  },
  {
   "cell_type": "code",
   "execution_count": 35,
   "id": "6c627914",
   "metadata": {
    "execution": {
     "iopub.execute_input": "2024-10-11T08:29:52.743495Z",
     "iopub.status.busy": "2024-10-11T08:29:52.743179Z",
     "iopub.status.idle": "2024-10-11T08:29:52.747096Z",
     "shell.execute_reply": "2024-10-11T08:29:52.746389Z"
    },
    "papermill": {
     "duration": 0.025287,
     "end_time": "2024-10-11T08:29:52.749080",
     "exception": false,
     "start_time": "2024-10-11T08:29:52.723793",
     "status": "completed"
    },
    "tags": []
   },
   "outputs": [],
   "source": [
    "criterion = nn.CrossEntropyLoss()"
   ]
  },
  {
   "cell_type": "code",
   "execution_count": 36,
   "id": "8b5e6677",
   "metadata": {
    "execution": {
     "iopub.execute_input": "2024-10-11T08:29:52.789318Z",
     "iopub.status.busy": "2024-10-11T08:29:52.789010Z",
     "iopub.status.idle": "2024-10-11T08:29:52.793664Z",
     "shell.execute_reply": "2024-10-11T08:29:52.792866Z"
    },
    "papermill": {
     "duration": 0.025956,
     "end_time": "2024-10-11T08:29:52.795496",
     "exception": false,
     "start_time": "2024-10-11T08:29:52.769540",
     "status": "completed"
    },
    "tags": []
   },
   "outputs": [],
   "source": [
    "optimizer = torch.optim.Adamax(model.parameters(), lr = 0.00006)"
   ]
  },
  {
   "cell_type": "markdown",
   "id": "36351bab",
   "metadata": {
    "papermill": {
     "duration": 0.018241,
     "end_time": "2024-10-11T08:29:52.832113",
     "exception": false,
     "start_time": "2024-10-11T08:29:52.813872",
     "status": "completed"
    },
    "tags": []
   },
   "source": [
    "# epochs"
   ]
  },
  {
   "cell_type": "code",
   "execution_count": 37,
   "id": "8a0106f2",
   "metadata": {
    "execution": {
     "iopub.execute_input": "2024-10-11T08:29:52.870392Z",
     "iopub.status.busy": "2024-10-11T08:29:52.870062Z",
     "iopub.status.idle": "2024-10-11T08:40:39.767351Z",
     "shell.execute_reply": "2024-10-11T08:40:39.765895Z"
    },
    "papermill": {
     "duration": 646.918937,
     "end_time": "2024-10-11T08:40:39.769658",
     "exception": false,
     "start_time": "2024-10-11T08:29:52.850721",
     "status": "completed"
    },
    "tags": []
   },
   "outputs": [
    {
     "name": "stdout",
     "output_type": "stream",
     "text": [
      "에폭 [70 / 70] - 손실값 : 0.0000\n",
      " 에폭 검증 데이터 ROC AUC :  0.992823\n"
     ]
    }
   ],
   "source": [
    "epochs = 70\n",
    "\n",
    "for epoch in range(epochs) :\n",
    "    epoch_loss = 0\n",
    "    \n",
    "    for images, labels in loader_train :\n",
    "        images = images.to(device)\n",
    "        labels = labels.to(device)\n",
    "        \n",
    "        \n",
    "        #optimizer 내 기울기 초기화\n",
    "        optimizer.zero_grad()\n",
    "        \n",
    "        #순전파 : 이미지 데이터를 신경망 모델의 입력값으로 사용해서 출력\n",
    "        outputs = model(images)\n",
    "        \n",
    "        #손실 함수를 활용해 outputs, labels를 계산\n",
    "        loss = criterion(outputs, labels)\n",
    "        \n",
    "        #현실 배치에서의 출력파 수행\n",
    "        epoch_loss += loss.item()\n",
    "        \n",
    "        #역전파 수행\n",
    "        loss.backward()\n",
    "        #가중치 수행\n",
    "        optimizer.step()\n",
    "        \n",
    "#훈련 데이터 예측        \n",
    "print(f'에폭 [{epoch + 1} / {epochs}] - 손실값 : {epoch_loss / len(loader_train) :.4f}')\n",
    "\n",
    "#검증\n",
    "model.eval()\n",
    "\n",
    "preds = []\n",
    "\n",
    "with torch.no_grad() :\n",
    "    for images, _labels in loader_valid :\n",
    "        \n",
    "        images = images.to(device)\n",
    "        \n",
    "        outputs = model(images)\n",
    "        \n",
    "        preds_part = torch.softmax(outputs.cpu(), dim = 1)[:, 1].tolist()\n",
    "        \n",
    "        preds.extend(preds_part)     \n",
    "        \n",
    "print(f' 에폭 검증 데이터 ROC AUC : {roc_auc_score(true_list, preds_list) : 4f}')"
   ]
  },
  {
   "cell_type": "markdown",
   "id": "7bc5121d",
   "metadata": {
    "papermill": {
     "duration": 0.019652,
     "end_time": "2024-10-11T08:40:39.810709",
     "exception": false,
     "start_time": "2024-10-11T08:40:39.791057",
     "status": "completed"
    },
    "tags": []
   },
   "source": [
    "# 예측 및 제출"
   ]
  },
  {
   "cell_type": "code",
   "execution_count": 38,
   "id": "df2a75e0",
   "metadata": {
    "execution": {
     "iopub.execute_input": "2024-10-11T08:40:39.849804Z",
     "iopub.status.busy": "2024-10-11T08:40:39.849432Z",
     "iopub.status.idle": "2024-10-11T08:40:39.854129Z",
     "shell.execute_reply": "2024-10-11T08:40:39.853242Z"
    },
    "papermill": {
     "duration": 0.026345,
     "end_time": "2024-10-11T08:40:39.856038",
     "exception": false,
     "start_time": "2024-10-11T08:40:39.829693",
     "status": "completed"
    },
    "tags": []
   },
   "outputs": [],
   "source": [
    "dataset_test = ImageDataset(df = submission, img_dir = 'test/', transform = transform_test)\n",
    "loader_test = DataLoader(dataset = dataset_test, batch_size = 32, shuffle = False)"
   ]
  },
  {
   "cell_type": "code",
   "execution_count": 39,
   "id": "697f37f9",
   "metadata": {
    "execution": {
     "iopub.execute_input": "2024-10-11T08:40:39.894350Z",
     "iopub.status.busy": "2024-10-11T08:40:39.894068Z",
     "iopub.status.idle": "2024-10-11T08:40:44.153822Z",
     "shell.execute_reply": "2024-10-11T08:40:44.152927Z"
    },
    "papermill": {
     "duration": 4.281736,
     "end_time": "2024-10-11T08:40:44.156322",
     "exception": false,
     "start_time": "2024-10-11T08:40:39.874586",
     "status": "completed"
    },
    "tags": []
   },
   "outputs": [],
   "source": [
    "# 예측\n",
    "\n",
    "model.eval()\n",
    "\n",
    "preds = []\n",
    "\n",
    "with torch.no_grad() :\n",
    "    for images, _ in loader_test :\n",
    "        \n",
    "        images = images.to(device)\n",
    "        \n",
    "        outputs = model(images)\n",
    "        \n",
    "        preds_part = torch.softmax(outputs.cpu(), dim = 1)[:, 1].tolist()\n",
    "        \n",
    "        preds.extend(preds_part)"
   ]
  },
  {
   "cell_type": "markdown",
   "id": "bee2cc6c",
   "metadata": {
    "papermill": {
     "duration": 0.02038,
     "end_time": "2024-10-11T08:40:44.197263",
     "exception": false,
     "start_time": "2024-10-11T08:40:44.176883",
     "status": "completed"
    },
    "tags": []
   },
   "source": [
    "# Submission"
   ]
  },
  {
   "cell_type": "code",
   "execution_count": 40,
   "id": "f84b591e",
   "metadata": {
    "execution": {
     "iopub.execute_input": "2024-10-11T08:40:44.238390Z",
     "iopub.status.busy": "2024-10-11T08:40:44.237521Z",
     "iopub.status.idle": "2024-10-11T08:40:44.261223Z",
     "shell.execute_reply": "2024-10-11T08:40:44.260009Z"
    },
    "papermill": {
     "duration": 0.045645,
     "end_time": "2024-10-11T08:40:44.263111",
     "exception": false,
     "start_time": "2024-10-11T08:40:44.217466",
     "status": "completed"
    },
    "tags": []
   },
   "outputs": [
    {
     "name": "stdout",
     "output_type": "stream",
     "text": [
      "16000\n"
     ]
    }
   ],
   "source": [
    "print(len(preds))\n",
    "submission[\"has_cactus\"] = preds[:len(submission)]\n",
    "submission.to_csv('submission.csv', index = False)"
   ]
  }
 ],
 "metadata": {
  "kaggle": {
   "accelerator": "gpu",
   "dataSources": [
    {
     "databundleVersionId": 331452,
     "sourceId": 13435,
     "sourceType": "competition"
    }
   ],
   "dockerImageVersionId": 30775,
   "isGpuEnabled": true,
   "isInternetEnabled": true,
   "language": "python",
   "sourceType": "notebook"
  },
  "kernelspec": {
   "display_name": "Python 3",
   "language": "python",
   "name": "python3"
  },
  "language_info": {
   "codemirror_mode": {
    "name": "ipython",
    "version": 3
   },
   "file_extension": ".py",
   "mimetype": "text/x-python",
   "name": "python",
   "nbconvert_exporter": "python",
   "pygments_lexer": "ipython3",
   "version": "3.10.14"
  },
  "papermill": {
   "default_parameters": {},
   "duration": 748.01562,
   "end_time": "2024-10-11T08:40:47.666273",
   "environment_variables": {},
   "exception": null,
   "input_path": "__notebook__.ipynb",
   "output_path": "__notebook__.ipynb",
   "parameters": {},
   "start_time": "2024-10-11T08:28:19.650653",
   "version": "2.6.0"
  },
  "widgets": {
   "application/vnd.jupyter.widget-state+json": {
    "state": {
     "00da475888a3454f890e789187f19dc3": {
      "model_module": "@jupyter-widgets/base",
      "model_module_version": "1.2.0",
      "model_name": "LayoutModel",
      "state": {
       "_model_module": "@jupyter-widgets/base",
       "_model_module_version": "1.2.0",
       "_model_name": "LayoutModel",
       "_view_count": null,
       "_view_module": "@jupyter-widgets/base",
       "_view_module_version": "1.2.0",
       "_view_name": "LayoutView",
       "align_content": null,
       "align_items": null,
       "align_self": null,
       "border": null,
       "bottom": null,
       "display": null,
       "flex": null,
       "flex_flow": null,
       "grid_area": null,
       "grid_auto_columns": null,
       "grid_auto_flow": null,
       "grid_auto_rows": null,
       "grid_column": null,
       "grid_gap": null,
       "grid_row": null,
       "grid_template_areas": null,
       "grid_template_columns": null,
       "grid_template_rows": null,
       "height": null,
       "justify_content": null,
       "justify_items": null,
       "left": null,
       "margin": null,
       "max_height": null,
       "max_width": null,
       "min_height": null,
       "min_width": null,
       "object_fit": null,
       "object_position": null,
       "order": null,
       "overflow": null,
       "overflow_x": null,
       "overflow_y": null,
       "padding": null,
       "right": null,
       "top": null,
       "visibility": null,
       "width": null
      }
     },
     "048a0662c1e74e36b77022b75a1b68f7": {
      "model_module": "@jupyter-widgets/base",
      "model_module_version": "1.2.0",
      "model_name": "LayoutModel",
      "state": {
       "_model_module": "@jupyter-widgets/base",
       "_model_module_version": "1.2.0",
       "_model_name": "LayoutModel",
       "_view_count": null,
       "_view_module": "@jupyter-widgets/base",
       "_view_module_version": "1.2.0",
       "_view_name": "LayoutView",
       "align_content": null,
       "align_items": null,
       "align_self": null,
       "border": null,
       "bottom": null,
       "display": null,
       "flex": null,
       "flex_flow": null,
       "grid_area": null,
       "grid_auto_columns": null,
       "grid_auto_flow": null,
       "grid_auto_rows": null,
       "grid_column": null,
       "grid_gap": null,
       "grid_row": null,
       "grid_template_areas": null,
       "grid_template_columns": null,
       "grid_template_rows": null,
       "height": null,
       "justify_content": null,
       "justify_items": null,
       "left": null,
       "margin": null,
       "max_height": null,
       "max_width": null,
       "min_height": null,
       "min_width": null,
       "object_fit": null,
       "object_position": null,
       "order": null,
       "overflow": null,
       "overflow_x": null,
       "overflow_y": null,
       "padding": null,
       "right": null,
       "top": null,
       "visibility": null,
       "width": null
      }
     },
     "05294cc1f04e462989c23a950af7eda9": {
      "model_module": "@jupyter-widgets/base",
      "model_module_version": "1.2.0",
      "model_name": "LayoutModel",
      "state": {
       "_model_module": "@jupyter-widgets/base",
       "_model_module_version": "1.2.0",
       "_model_name": "LayoutModel",
       "_view_count": null,
       "_view_module": "@jupyter-widgets/base",
       "_view_module_version": "1.2.0",
       "_view_name": "LayoutView",
       "align_content": null,
       "align_items": null,
       "align_self": null,
       "border": null,
       "bottom": null,
       "display": null,
       "flex": null,
       "flex_flow": null,
       "grid_area": null,
       "grid_auto_columns": null,
       "grid_auto_flow": null,
       "grid_auto_rows": null,
       "grid_column": null,
       "grid_gap": null,
       "grid_row": null,
       "grid_template_areas": null,
       "grid_template_columns": null,
       "grid_template_rows": null,
       "height": null,
       "justify_content": null,
       "justify_items": null,
       "left": null,
       "margin": null,
       "max_height": null,
       "max_width": null,
       "min_height": null,
       "min_width": null,
       "object_fit": null,
       "object_position": null,
       "order": null,
       "overflow": null,
       "overflow_x": null,
       "overflow_y": null,
       "padding": null,
       "right": null,
       "top": null,
       "visibility": null,
       "width": null
      }
     },
     "05bb847dcaff4077b44071303be1f4be": {
      "model_module": "@jupyter-widgets/controls",
      "model_module_version": "1.5.0",
      "model_name": "ProgressStyleModel",
      "state": {
       "_model_module": "@jupyter-widgets/controls",
       "_model_module_version": "1.5.0",
       "_model_name": "ProgressStyleModel",
       "_view_count": null,
       "_view_module": "@jupyter-widgets/base",
       "_view_module_version": "1.2.0",
       "_view_name": "StyleView",
       "bar_color": null,
       "description_width": ""
      }
     },
     "065b642623b44c2da66f87cacf6d46ea": {
      "model_module": "@jupyter-widgets/controls",
      "model_module_version": "1.5.0",
      "model_name": "FloatProgressModel",
      "state": {
       "_dom_classes": [],
       "_model_module": "@jupyter-widgets/controls",
       "_model_module_version": "1.5.0",
       "_model_name": "FloatProgressModel",
       "_view_count": null,
       "_view_module": "@jupyter-widgets/controls",
       "_view_module_version": "1.5.0",
       "_view_name": "ProgressView",
       "bar_style": "success",
       "description": "",
       "description_tooltip": null,
       "layout": "IPY_MODEL_8beae104a1464bc4a2a8fc1f8c8c7119",
       "max": 985.0,
       "min": 0.0,
       "orientation": "horizontal",
       "style": "IPY_MODEL_57f54c6404bf437fa7b55160b9c52164",
       "value": 985.0
      }
     },
     "06639529b22445acb9abbcd732540d96": {
      "model_module": "@jupyter-widgets/controls",
      "model_module_version": "1.5.0",
      "model_name": "HBoxModel",
      "state": {
       "_dom_classes": [],
       "_model_module": "@jupyter-widgets/controls",
       "_model_module_version": "1.5.0",
       "_model_name": "HBoxModel",
       "_view_count": null,
       "_view_module": "@jupyter-widgets/controls",
       "_view_module_version": "1.5.0",
       "_view_name": "HBoxView",
       "box_style": "",
       "children": [
        "IPY_MODEL_18bba758ae8a4c95b38c6ff74c54ad08",
        "IPY_MODEL_468d416a8a5c4b82b74820f43f1bd2e9",
        "IPY_MODEL_71c8fa5fd94845c9a15bbe13981faf21"
       ],
       "layout": "IPY_MODEL_00da475888a3454f890e789187f19dc3"
      }
     },
     "074ba497c8e84a9c916530be92d8b508": {
      "model_module": "@jupyter-widgets/base",
      "model_module_version": "1.2.0",
      "model_name": "LayoutModel",
      "state": {
       "_model_module": "@jupyter-widgets/base",
       "_model_module_version": "1.2.0",
       "_model_name": "LayoutModel",
       "_view_count": null,
       "_view_module": "@jupyter-widgets/base",
       "_view_module_version": "1.2.0",
       "_view_name": "LayoutView",
       "align_content": null,
       "align_items": null,
       "align_self": null,
       "border": null,
       "bottom": null,
       "display": null,
       "flex": null,
       "flex_flow": null,
       "grid_area": null,
       "grid_auto_columns": null,
       "grid_auto_flow": null,
       "grid_auto_rows": null,
       "grid_column": null,
       "grid_gap": null,
       "grid_row": null,
       "grid_template_areas": null,
       "grid_template_columns": null,
       "grid_template_rows": null,
       "height": null,
       "justify_content": null,
       "justify_items": null,
       "left": null,
       "margin": null,
       "max_height": null,
       "max_width": null,
       "min_height": null,
       "min_width": null,
       "object_fit": null,
       "object_position": null,
       "order": null,
       "overflow": null,
       "overflow_x": null,
       "overflow_y": null,
       "padding": null,
       "right": null,
       "top": null,
       "visibility": null,
       "width": null
      }
     },
     "0b02c714c2154bebb38aff4bf6327b3e": {
      "model_module": "@jupyter-widgets/controls",
      "model_module_version": "1.5.0",
      "model_name": "DescriptionStyleModel",
      "state": {
       "_model_module": "@jupyter-widgets/controls",
       "_model_module_version": "1.5.0",
       "_model_name": "DescriptionStyleModel",
       "_view_count": null,
       "_view_module": "@jupyter-widgets/base",
       "_view_module_version": "1.2.0",
       "_view_name": "StyleView",
       "description_width": ""
      }
     },
     "11d353d016b54572b2dabedfbaecb93c": {
      "model_module": "@jupyter-widgets/controls",
      "model_module_version": "1.5.0",
      "model_name": "DescriptionStyleModel",
      "state": {
       "_model_module": "@jupyter-widgets/controls",
       "_model_module_version": "1.5.0",
       "_model_name": "DescriptionStyleModel",
       "_view_count": null,
       "_view_module": "@jupyter-widgets/base",
       "_view_module_version": "1.2.0",
       "_view_name": "StyleView",
       "description_width": ""
      }
     },
     "138c93a6fd9144d3804db7ce72e94841": {
      "model_module": "@jupyter-widgets/controls",
      "model_module_version": "1.5.0",
      "model_name": "HTMLModel",
      "state": {
       "_dom_classes": [],
       "_model_module": "@jupyter-widgets/controls",
       "_model_module_version": "1.5.0",
       "_model_name": "HTMLModel",
       "_view_count": null,
       "_view_module": "@jupyter-widgets/controls",
       "_view_module_version": "1.5.0",
       "_view_name": "HTMLView",
       "description": "",
       "description_tooltip": null,
       "layout": "IPY_MODEL_ab3711c2f1514deab65511b66ea3a769",
       "placeholder": "​",
       "style": "IPY_MODEL_bbe46536bbaa45e3a8dfdc9786ee4818",
       "value": " 985/985 [00:06&lt;00:00, 161.64it/s]"
      }
     },
     "164c34c9675a4a41b0e37c6ae81630ac": {
      "model_module": "@jupyter-widgets/controls",
      "model_module_version": "1.5.0",
      "model_name": "HTMLModel",
      "state": {
       "_dom_classes": [],
       "_model_module": "@jupyter-widgets/controls",
       "_model_module_version": "1.5.0",
       "_model_name": "HTMLModel",
       "_view_count": null,
       "_view_module": "@jupyter-widgets/controls",
       "_view_module_version": "1.5.0",
       "_view_name": "HTMLView",
       "description": "",
       "description_tooltip": null,
       "layout": "IPY_MODEL_05294cc1f04e462989c23a950af7eda9",
       "placeholder": "​",
       "style": "IPY_MODEL_5df1343a979449bbbec638b24ce6461f",
       "value": "100%"
      }
     },
     "16896d0919184e81b5c3916850508277": {
      "model_module": "@jupyter-widgets/controls",
      "model_module_version": "1.5.0",
      "model_name": "HTMLModel",
      "state": {
       "_dom_classes": [],
       "_model_module": "@jupyter-widgets/controls",
       "_model_module_version": "1.5.0",
       "_model_name": "HTMLModel",
       "_view_count": null,
       "_view_module": "@jupyter-widgets/controls",
       "_view_module_version": "1.5.0",
       "_view_name": "HTMLView",
       "description": "",
       "description_tooltip": null,
       "layout": "IPY_MODEL_c78de1216d7c4c60b5af7130624404f6",
       "placeholder": "​",
       "style": "IPY_MODEL_dcffdac186544ea1ac6ae0cc24d07199",
       "value": "100%"
      }
     },
     "170dc7af556f43f989abe21ee3c3c4ab": {
      "model_module": "@jupyter-widgets/base",
      "model_module_version": "1.2.0",
      "model_name": "LayoutModel",
      "state": {
       "_model_module": "@jupyter-widgets/base",
       "_model_module_version": "1.2.0",
       "_model_name": "LayoutModel",
       "_view_count": null,
       "_view_module": "@jupyter-widgets/base",
       "_view_module_version": "1.2.0",
       "_view_name": "LayoutView",
       "align_content": null,
       "align_items": null,
       "align_self": null,
       "border": null,
       "bottom": null,
       "display": null,
       "flex": null,
       "flex_flow": null,
       "grid_area": null,
       "grid_auto_columns": null,
       "grid_auto_flow": null,
       "grid_auto_rows": null,
       "grid_column": null,
       "grid_gap": null,
       "grid_row": null,
       "grid_template_areas": null,
       "grid_template_columns": null,
       "grid_template_rows": null,
       "height": null,
       "justify_content": null,
       "justify_items": null,
       "left": null,
       "margin": null,
       "max_height": null,
       "max_width": null,
       "min_height": null,
       "min_width": null,
       "object_fit": null,
       "object_position": null,
       "order": null,
       "overflow": null,
       "overflow_x": null,
       "overflow_y": null,
       "padding": null,
       "right": null,
       "top": null,
       "visibility": null,
       "width": null
      }
     },
     "18bba758ae8a4c95b38c6ff74c54ad08": {
      "model_module": "@jupyter-widgets/controls",
      "model_module_version": "1.5.0",
      "model_name": "HTMLModel",
      "state": {
       "_dom_classes": [],
       "_model_module": "@jupyter-widgets/controls",
       "_model_module_version": "1.5.0",
       "_model_name": "HTMLModel",
       "_view_count": null,
       "_view_module": "@jupyter-widgets/controls",
       "_view_module_version": "1.5.0",
       "_view_name": "HTMLView",
       "description": "",
       "description_tooltip": null,
       "layout": "IPY_MODEL_cf23a518776446cf8100ad3a681beaf1",
       "placeholder": "​",
       "style": "IPY_MODEL_56f96ee7534443e1be0763fcd9c80ee9",
       "value": "100%"
      }
     },
     "1cf0d0dd733d46fe87b3cc4ce7ac455e": {
      "model_module": "@jupyter-widgets/controls",
      "model_module_version": "1.5.0",
      "model_name": "DescriptionStyleModel",
      "state": {
       "_model_module": "@jupyter-widgets/controls",
       "_model_module_version": "1.5.0",
       "_model_name": "DescriptionStyleModel",
       "_view_count": null,
       "_view_module": "@jupyter-widgets/base",
       "_view_module_version": "1.2.0",
       "_view_name": "StyleView",
       "description_width": ""
      }
     },
     "2897552fed8f41f6a373c0e1ffb135dc": {
      "model_module": "@jupyter-widgets/controls",
      "model_module_version": "1.5.0",
      "model_name": "DescriptionStyleModel",
      "state": {
       "_model_module": "@jupyter-widgets/controls",
       "_model_module_version": "1.5.0",
       "_model_name": "DescriptionStyleModel",
       "_view_count": null,
       "_view_module": "@jupyter-widgets/base",
       "_view_module_version": "1.2.0",
       "_view_name": "StyleView",
       "description_width": ""
      }
     },
     "2abcf17ca21a46eb8b2ac6f3e2ee4202": {
      "model_module": "@jupyter-widgets/base",
      "model_module_version": "1.2.0",
      "model_name": "LayoutModel",
      "state": {
       "_model_module": "@jupyter-widgets/base",
       "_model_module_version": "1.2.0",
       "_model_name": "LayoutModel",
       "_view_count": null,
       "_view_module": "@jupyter-widgets/base",
       "_view_module_version": "1.2.0",
       "_view_name": "LayoutView",
       "align_content": null,
       "align_items": null,
       "align_self": null,
       "border": null,
       "bottom": null,
       "display": null,
       "flex": null,
       "flex_flow": null,
       "grid_area": null,
       "grid_auto_columns": null,
       "grid_auto_flow": null,
       "grid_auto_rows": null,
       "grid_column": null,
       "grid_gap": null,
       "grid_row": null,
       "grid_template_areas": null,
       "grid_template_columns": null,
       "grid_template_rows": null,
       "height": null,
       "justify_content": null,
       "justify_items": null,
       "left": null,
       "margin": null,
       "max_height": null,
       "max_width": null,
       "min_height": null,
       "min_width": null,
       "object_fit": null,
       "object_position": null,
       "order": null,
       "overflow": null,
       "overflow_x": null,
       "overflow_y": null,
       "padding": null,
       "right": null,
       "top": null,
       "visibility": null,
       "width": null
      }
     },
     "2be32ea8a3524b3e8b7b57e60f367491": {
      "model_module": "@jupyter-widgets/base",
      "model_module_version": "1.2.0",
      "model_name": "LayoutModel",
      "state": {
       "_model_module": "@jupyter-widgets/base",
       "_model_module_version": "1.2.0",
       "_model_name": "LayoutModel",
       "_view_count": null,
       "_view_module": "@jupyter-widgets/base",
       "_view_module_version": "1.2.0",
       "_view_name": "LayoutView",
       "align_content": null,
       "align_items": null,
       "align_self": null,
       "border": null,
       "bottom": null,
       "display": null,
       "flex": null,
       "flex_flow": null,
       "grid_area": null,
       "grid_auto_columns": null,
       "grid_auto_flow": null,
       "grid_auto_rows": null,
       "grid_column": null,
       "grid_gap": null,
       "grid_row": null,
       "grid_template_areas": null,
       "grid_template_columns": null,
       "grid_template_rows": null,
       "height": null,
       "justify_content": null,
       "justify_items": null,
       "left": null,
       "margin": null,
       "max_height": null,
       "max_width": null,
       "min_height": null,
       "min_width": null,
       "object_fit": null,
       "object_position": null,
       "order": null,
       "overflow": null,
       "overflow_x": null,
       "overflow_y": null,
       "padding": null,
       "right": null,
       "top": null,
       "visibility": null,
       "width": null
      }
     },
     "2dc14358a5e6416d856ab7b6ca213940": {
      "model_module": "@jupyter-widgets/controls",
      "model_module_version": "1.5.0",
      "model_name": "ProgressStyleModel",
      "state": {
       "_model_module": "@jupyter-widgets/controls",
       "_model_module_version": "1.5.0",
       "_model_name": "ProgressStyleModel",
       "_view_count": null,
       "_view_module": "@jupyter-widgets/base",
       "_view_module_version": "1.2.0",
       "_view_name": "StyleView",
       "bar_color": null,
       "description_width": ""
      }
     },
     "34e80d226c4044d38882a0b1982034a2": {
      "model_module": "@jupyter-widgets/controls",
      "model_module_version": "1.5.0",
      "model_name": "DescriptionStyleModel",
      "state": {
       "_model_module": "@jupyter-widgets/controls",
       "_model_module_version": "1.5.0",
       "_model_name": "DescriptionStyleModel",
       "_view_count": null,
       "_view_module": "@jupyter-widgets/base",
       "_view_module_version": "1.2.0",
       "_view_name": "StyleView",
       "description_width": ""
      }
     },
     "35de622253cf4ddeaf4a367ed5f8f4e9": {
      "model_module": "@jupyter-widgets/controls",
      "model_module_version": "1.5.0",
      "model_name": "HTMLModel",
      "state": {
       "_dom_classes": [],
       "_model_module": "@jupyter-widgets/controls",
       "_model_module_version": "1.5.0",
       "_model_name": "HTMLModel",
       "_view_count": null,
       "_view_module": "@jupyter-widgets/controls",
       "_view_module_version": "1.5.0",
       "_view_name": "HTMLView",
       "description": "",
       "description_tooltip": null,
       "layout": "IPY_MODEL_97af59832c3d46d48f8b459ae8fead87",
       "placeholder": "​",
       "style": "IPY_MODEL_5c2be55d8dc64989ae560f3027833ec3",
       "value": " 985/985 [00:06&lt;00:00, 162.79it/s]"
      }
     },
     "384d11bf0a504d049e07cb33f219a272": {
      "model_module": "@jupyter-widgets/controls",
      "model_module_version": "1.5.0",
      "model_name": "DescriptionStyleModel",
      "state": {
       "_model_module": "@jupyter-widgets/controls",
       "_model_module_version": "1.5.0",
       "_model_name": "DescriptionStyleModel",
       "_view_count": null,
       "_view_module": "@jupyter-widgets/base",
       "_view_module_version": "1.2.0",
       "_view_name": "StyleView",
       "description_width": ""
      }
     },
     "3aa5ed9160c2441ab58f43a17540a219": {
      "model_module": "@jupyter-widgets/controls",
      "model_module_version": "1.5.0",
      "model_name": "HBoxModel",
      "state": {
       "_dom_classes": [],
       "_model_module": "@jupyter-widgets/controls",
       "_model_module_version": "1.5.0",
       "_model_name": "HBoxModel",
       "_view_count": null,
       "_view_module": "@jupyter-widgets/controls",
       "_view_module_version": "1.5.0",
       "_view_name": "HBoxView",
       "box_style": "",
       "children": [
        "IPY_MODEL_164c34c9675a4a41b0e37c6ae81630ac",
        "IPY_MODEL_b951e6cf368244a5af1157e574e2cf8b",
        "IPY_MODEL_bc7708a88e51482fad79e1e993455cb8"
       ],
       "layout": "IPY_MODEL_074ba497c8e84a9c916530be92d8b508"
      }
     },
     "43f4340b749944a3ad0a98b8a1102eb7": {
      "model_module": "@jupyter-widgets/controls",
      "model_module_version": "1.5.0",
      "model_name": "DescriptionStyleModel",
      "state": {
       "_model_module": "@jupyter-widgets/controls",
       "_model_module_version": "1.5.0",
       "_model_name": "DescriptionStyleModel",
       "_view_count": null,
       "_view_module": "@jupyter-widgets/base",
       "_view_module_version": "1.2.0",
       "_view_name": "StyleView",
       "description_width": ""
      }
     },
     "4638c79664f14171b5836f937cd6b2ac": {
      "model_module": "@jupyter-widgets/controls",
      "model_module_version": "1.5.0",
      "model_name": "ProgressStyleModel",
      "state": {
       "_model_module": "@jupyter-widgets/controls",
       "_model_module_version": "1.5.0",
       "_model_name": "ProgressStyleModel",
       "_view_count": null,
       "_view_module": "@jupyter-widgets/base",
       "_view_module_version": "1.2.0",
       "_view_name": "StyleView",
       "bar_color": null,
       "description_width": ""
      }
     },
     "468d416a8a5c4b82b74820f43f1bd2e9": {
      "model_module": "@jupyter-widgets/controls",
      "model_module_version": "1.5.0",
      "model_name": "FloatProgressModel",
      "state": {
       "_dom_classes": [],
       "_model_module": "@jupyter-widgets/controls",
       "_model_module_version": "1.5.0",
       "_model_name": "FloatProgressModel",
       "_view_count": null,
       "_view_module": "@jupyter-widgets/controls",
       "_view_module_version": "1.5.0",
       "_view_name": "ProgressView",
       "bar_style": "success",
       "description": "",
       "description_tooltip": null,
       "layout": "IPY_MODEL_6a03e1fa86e345d1a742a8021a80460f",
       "max": 985.0,
       "min": 0.0,
       "orientation": "horizontal",
       "style": "IPY_MODEL_4638c79664f14171b5836f937cd6b2ac",
       "value": 985.0
      }
     },
     "4759177f149543319b71968519a9fde0": {
      "model_module": "@jupyter-widgets/base",
      "model_module_version": "1.2.0",
      "model_name": "LayoutModel",
      "state": {
       "_model_module": "@jupyter-widgets/base",
       "_model_module_version": "1.2.0",
       "_model_name": "LayoutModel",
       "_view_count": null,
       "_view_module": "@jupyter-widgets/base",
       "_view_module_version": "1.2.0",
       "_view_name": "LayoutView",
       "align_content": null,
       "align_items": null,
       "align_self": null,
       "border": null,
       "bottom": null,
       "display": null,
       "flex": null,
       "flex_flow": null,
       "grid_area": null,
       "grid_auto_columns": null,
       "grid_auto_flow": null,
       "grid_auto_rows": null,
       "grid_column": null,
       "grid_gap": null,
       "grid_row": null,
       "grid_template_areas": null,
       "grid_template_columns": null,
       "grid_template_rows": null,
       "height": null,
       "justify_content": null,
       "justify_items": null,
       "left": null,
       "margin": null,
       "max_height": null,
       "max_width": null,
       "min_height": null,
       "min_width": null,
       "object_fit": null,
       "object_position": null,
       "order": null,
       "overflow": null,
       "overflow_x": null,
       "overflow_y": null,
       "padding": null,
       "right": null,
       "top": null,
       "visibility": null,
       "width": null
      }
     },
     "4a7bd040a3fa40daa064d69b0cb66dba": {
      "model_module": "@jupyter-widgets/base",
      "model_module_version": "1.2.0",
      "model_name": "LayoutModel",
      "state": {
       "_model_module": "@jupyter-widgets/base",
       "_model_module_version": "1.2.0",
       "_model_name": "LayoutModel",
       "_view_count": null,
       "_view_module": "@jupyter-widgets/base",
       "_view_module_version": "1.2.0",
       "_view_name": "LayoutView",
       "align_content": null,
       "align_items": null,
       "align_self": null,
       "border": null,
       "bottom": null,
       "display": null,
       "flex": null,
       "flex_flow": null,
       "grid_area": null,
       "grid_auto_columns": null,
       "grid_auto_flow": null,
       "grid_auto_rows": null,
       "grid_column": null,
       "grid_gap": null,
       "grid_row": null,
       "grid_template_areas": null,
       "grid_template_columns": null,
       "grid_template_rows": null,
       "height": null,
       "justify_content": null,
       "justify_items": null,
       "left": null,
       "margin": null,
       "max_height": null,
       "max_width": null,
       "min_height": null,
       "min_width": null,
       "object_fit": null,
       "object_position": null,
       "order": null,
       "overflow": null,
       "overflow_x": null,
       "overflow_y": null,
       "padding": null,
       "right": null,
       "top": null,
       "visibility": null,
       "width": null
      }
     },
     "50fbec5e85c849249fe059b80c0cb6a2": {
      "model_module": "@jupyter-widgets/base",
      "model_module_version": "1.2.0",
      "model_name": "LayoutModel",
      "state": {
       "_model_module": "@jupyter-widgets/base",
       "_model_module_version": "1.2.0",
       "_model_name": "LayoutModel",
       "_view_count": null,
       "_view_module": "@jupyter-widgets/base",
       "_view_module_version": "1.2.0",
       "_view_name": "LayoutView",
       "align_content": null,
       "align_items": null,
       "align_self": null,
       "border": null,
       "bottom": null,
       "display": null,
       "flex": null,
       "flex_flow": null,
       "grid_area": null,
       "grid_auto_columns": null,
       "grid_auto_flow": null,
       "grid_auto_rows": null,
       "grid_column": null,
       "grid_gap": null,
       "grid_row": null,
       "grid_template_areas": null,
       "grid_template_columns": null,
       "grid_template_rows": null,
       "height": null,
       "justify_content": null,
       "justify_items": null,
       "left": null,
       "margin": null,
       "max_height": null,
       "max_width": null,
       "min_height": null,
       "min_width": null,
       "object_fit": null,
       "object_position": null,
       "order": null,
       "overflow": null,
       "overflow_x": null,
       "overflow_y": null,
       "padding": null,
       "right": null,
       "top": null,
       "visibility": null,
       "width": null
      }
     },
     "55340a3838944b70b08f3f31f70e1cd9": {
      "model_module": "@jupyter-widgets/controls",
      "model_module_version": "1.5.0",
      "model_name": "ProgressStyleModel",
      "state": {
       "_model_module": "@jupyter-widgets/controls",
       "_model_module_version": "1.5.0",
       "_model_name": "ProgressStyleModel",
       "_view_count": null,
       "_view_module": "@jupyter-widgets/base",
       "_view_module_version": "1.2.0",
       "_view_name": "StyleView",
       "bar_color": null,
       "description_width": ""
      }
     },
     "56f96ee7534443e1be0763fcd9c80ee9": {
      "model_module": "@jupyter-widgets/controls",
      "model_module_version": "1.5.0",
      "model_name": "DescriptionStyleModel",
      "state": {
       "_model_module": "@jupyter-widgets/controls",
       "_model_module_version": "1.5.0",
       "_model_name": "DescriptionStyleModel",
       "_view_count": null,
       "_view_module": "@jupyter-widgets/base",
       "_view_module_version": "1.2.0",
       "_view_name": "StyleView",
       "description_width": ""
      }
     },
     "5775969d17d24ce1be39bd93bbd0c3fe": {
      "model_module": "@jupyter-widgets/base",
      "model_module_version": "1.2.0",
      "model_name": "LayoutModel",
      "state": {
       "_model_module": "@jupyter-widgets/base",
       "_model_module_version": "1.2.0",
       "_model_name": "LayoutModel",
       "_view_count": null,
       "_view_module": "@jupyter-widgets/base",
       "_view_module_version": "1.2.0",
       "_view_name": "LayoutView",
       "align_content": null,
       "align_items": null,
       "align_self": null,
       "border": null,
       "bottom": null,
       "display": null,
       "flex": null,
       "flex_flow": null,
       "grid_area": null,
       "grid_auto_columns": null,
       "grid_auto_flow": null,
       "grid_auto_rows": null,
       "grid_column": null,
       "grid_gap": null,
       "grid_row": null,
       "grid_template_areas": null,
       "grid_template_columns": null,
       "grid_template_rows": null,
       "height": null,
       "justify_content": null,
       "justify_items": null,
       "left": null,
       "margin": null,
       "max_height": null,
       "max_width": null,
       "min_height": null,
       "min_width": null,
       "object_fit": null,
       "object_position": null,
       "order": null,
       "overflow": null,
       "overflow_x": null,
       "overflow_y": null,
       "padding": null,
       "right": null,
       "top": null,
       "visibility": null,
       "width": null
      }
     },
     "57f54c6404bf437fa7b55160b9c52164": {
      "model_module": "@jupyter-widgets/controls",
      "model_module_version": "1.5.0",
      "model_name": "ProgressStyleModel",
      "state": {
       "_model_module": "@jupyter-widgets/controls",
       "_model_module_version": "1.5.0",
       "_model_name": "ProgressStyleModel",
       "_view_count": null,
       "_view_module": "@jupyter-widgets/base",
       "_view_module_version": "1.2.0",
       "_view_name": "StyleView",
       "bar_color": null,
       "description_width": ""
      }
     },
     "5c2be55d8dc64989ae560f3027833ec3": {
      "model_module": "@jupyter-widgets/controls",
      "model_module_version": "1.5.0",
      "model_name": "DescriptionStyleModel",
      "state": {
       "_model_module": "@jupyter-widgets/controls",
       "_model_module_version": "1.5.0",
       "_model_name": "DescriptionStyleModel",
       "_view_count": null,
       "_view_module": "@jupyter-widgets/base",
       "_view_module_version": "1.2.0",
       "_view_name": "StyleView",
       "description_width": ""
      }
     },
     "5d5a3b29810e42719cb15d01cd620093": {
      "model_module": "@jupyter-widgets/controls",
      "model_module_version": "1.5.0",
      "model_name": "HTMLModel",
      "state": {
       "_dom_classes": [],
       "_model_module": "@jupyter-widgets/controls",
       "_model_module_version": "1.5.0",
       "_model_name": "HTMLModel",
       "_view_count": null,
       "_view_module": "@jupyter-widgets/controls",
       "_view_module_version": "1.5.0",
       "_view_name": "HTMLView",
       "description": "",
       "description_tooltip": null,
       "layout": "IPY_MODEL_a097efdf291544fdacb1432b96a0a1b0",
       "placeholder": "​",
       "style": "IPY_MODEL_43f4340b749944a3ad0a98b8a1102eb7",
       "value": " 985/985 [00:06&lt;00:00, 162.84it/s]"
      }
     },
     "5df1343a979449bbbec638b24ce6461f": {
      "model_module": "@jupyter-widgets/controls",
      "model_module_version": "1.5.0",
      "model_name": "DescriptionStyleModel",
      "state": {
       "_model_module": "@jupyter-widgets/controls",
       "_model_module_version": "1.5.0",
       "_model_name": "DescriptionStyleModel",
       "_view_count": null,
       "_view_module": "@jupyter-widgets/base",
       "_view_module_version": "1.2.0",
       "_view_name": "StyleView",
       "description_width": ""
      }
     },
     "613cd234a2c847d98703512bd05225c7": {
      "model_module": "@jupyter-widgets/controls",
      "model_module_version": "1.5.0",
      "model_name": "HTMLModel",
      "state": {
       "_dom_classes": [],
       "_model_module": "@jupyter-widgets/controls",
       "_model_module_version": "1.5.0",
       "_model_name": "HTMLModel",
       "_view_count": null,
       "_view_module": "@jupyter-widgets/controls",
       "_view_module_version": "1.5.0",
       "_view_name": "HTMLView",
       "description": "",
       "description_tooltip": null,
       "layout": "IPY_MODEL_5775969d17d24ce1be39bd93bbd0c3fe",
       "placeholder": "​",
       "style": "IPY_MODEL_9b1c8fbc13b8435599a2d79f77ada68e",
       "value": " 985/985 [00:06&lt;00:00, 164.13it/s]"
      }
     },
     "647ed3fbb7a544a7a071559b9579d1f4": {
      "model_module": "@jupyter-widgets/controls",
      "model_module_version": "1.5.0",
      "model_name": "HBoxModel",
      "state": {
       "_dom_classes": [],
       "_model_module": "@jupyter-widgets/controls",
       "_model_module_version": "1.5.0",
       "_model_name": "HBoxModel",
       "_view_count": null,
       "_view_module": "@jupyter-widgets/controls",
       "_view_module_version": "1.5.0",
       "_view_name": "HBoxView",
       "box_style": "",
       "children": [
        "IPY_MODEL_abc9108b04914a3d9173a2f457ff5999",
        "IPY_MODEL_ede1523d24954f39b69c98577dbb4be0",
        "IPY_MODEL_a990a822e0324ab995c42164a89e1a6b"
       ],
       "layout": "IPY_MODEL_fcd700d323f74b5d9862e8a4668762cf"
      }
     },
     "65236e1437af4c62a91bbf4f81658a43": {
      "model_module": "@jupyter-widgets/controls",
      "model_module_version": "1.5.0",
      "model_name": "DescriptionStyleModel",
      "state": {
       "_model_module": "@jupyter-widgets/controls",
       "_model_module_version": "1.5.0",
       "_model_name": "DescriptionStyleModel",
       "_view_count": null,
       "_view_module": "@jupyter-widgets/base",
       "_view_module_version": "1.2.0",
       "_view_name": "StyleView",
       "description_width": ""
      }
     },
     "66627ad8ffce48aab76e2635d6b89594": {
      "model_module": "@jupyter-widgets/controls",
      "model_module_version": "1.5.0",
      "model_name": "DescriptionStyleModel",
      "state": {
       "_model_module": "@jupyter-widgets/controls",
       "_model_module_version": "1.5.0",
       "_model_name": "DescriptionStyleModel",
       "_view_count": null,
       "_view_module": "@jupyter-widgets/base",
       "_view_module_version": "1.2.0",
       "_view_name": "StyleView",
       "description_width": ""
      }
     },
     "6a03e1fa86e345d1a742a8021a80460f": {
      "model_module": "@jupyter-widgets/base",
      "model_module_version": "1.2.0",
      "model_name": "LayoutModel",
      "state": {
       "_model_module": "@jupyter-widgets/base",
       "_model_module_version": "1.2.0",
       "_model_name": "LayoutModel",
       "_view_count": null,
       "_view_module": "@jupyter-widgets/base",
       "_view_module_version": "1.2.0",
       "_view_name": "LayoutView",
       "align_content": null,
       "align_items": null,
       "align_self": null,
       "border": null,
       "bottom": null,
       "display": null,
       "flex": null,
       "flex_flow": null,
       "grid_area": null,
       "grid_auto_columns": null,
       "grid_auto_flow": null,
       "grid_auto_rows": null,
       "grid_column": null,
       "grid_gap": null,
       "grid_row": null,
       "grid_template_areas": null,
       "grid_template_columns": null,
       "grid_template_rows": null,
       "height": null,
       "justify_content": null,
       "justify_items": null,
       "left": null,
       "margin": null,
       "max_height": null,
       "max_width": null,
       "min_height": null,
       "min_width": null,
       "object_fit": null,
       "object_position": null,
       "order": null,
       "overflow": null,
       "overflow_x": null,
       "overflow_y": null,
       "padding": null,
       "right": null,
       "top": null,
       "visibility": null,
       "width": null
      }
     },
     "6cf25d689de14bfbbb8ef63abd7c97ca": {
      "model_module": "@jupyter-widgets/controls",
      "model_module_version": "1.5.0",
      "model_name": "HTMLModel",
      "state": {
       "_dom_classes": [],
       "_model_module": "@jupyter-widgets/controls",
       "_model_module_version": "1.5.0",
       "_model_name": "HTMLModel",
       "_view_count": null,
       "_view_module": "@jupyter-widgets/controls",
       "_view_module_version": "1.5.0",
       "_view_name": "HTMLView",
       "description": "",
       "description_tooltip": null,
       "layout": "IPY_MODEL_88515fcca8824efea3fc7542cf42ab4d",
       "placeholder": "​",
       "style": "IPY_MODEL_f4f8915e7f964562b2452442642fd8ad",
       "value": " 985/985 [00:06&lt;00:00, 162.54it/s]"
      }
     },
     "71c8fa5fd94845c9a15bbe13981faf21": {
      "model_module": "@jupyter-widgets/controls",
      "model_module_version": "1.5.0",
      "model_name": "HTMLModel",
      "state": {
       "_dom_classes": [],
       "_model_module": "@jupyter-widgets/controls",
       "_model_module_version": "1.5.0",
       "_model_name": "HTMLModel",
       "_view_count": null,
       "_view_module": "@jupyter-widgets/controls",
       "_view_module_version": "1.5.0",
       "_view_name": "HTMLView",
       "description": "",
       "description_tooltip": null,
       "layout": "IPY_MODEL_d5e973b9fef54ec38cc05887996ab3c9",
       "placeholder": "​",
       "style": "IPY_MODEL_e7f5b4b2493a4ce48c8f5bd5fb26bee5",
       "value": " 985/985 [00:06&lt;00:00, 153.78it/s]"
      }
     },
     "7513d1d0f9de44dbb23578fcac2ccd4e": {
      "model_module": "@jupyter-widgets/controls",
      "model_module_version": "1.5.0",
      "model_name": "FloatProgressModel",
      "state": {
       "_dom_classes": [],
       "_model_module": "@jupyter-widgets/controls",
       "_model_module_version": "1.5.0",
       "_model_name": "FloatProgressModel",
       "_view_count": null,
       "_view_module": "@jupyter-widgets/controls",
       "_view_module_version": "1.5.0",
       "_view_name": "ProgressView",
       "bar_style": "success",
       "description": "",
       "description_tooltip": null,
       "layout": "IPY_MODEL_048a0662c1e74e36b77022b75a1b68f7",
       "max": 985.0,
       "min": 0.0,
       "orientation": "horizontal",
       "style": "IPY_MODEL_05bb847dcaff4077b44071303be1f4be",
       "value": 985.0
      }
     },
     "7537ac1df2c447ca92cd67f1a1fe0eed": {
      "model_module": "@jupyter-widgets/controls",
      "model_module_version": "1.5.0",
      "model_name": "DescriptionStyleModel",
      "state": {
       "_model_module": "@jupyter-widgets/controls",
       "_model_module_version": "1.5.0",
       "_model_name": "DescriptionStyleModel",
       "_view_count": null,
       "_view_module": "@jupyter-widgets/base",
       "_view_module_version": "1.2.0",
       "_view_name": "StyleView",
       "description_width": ""
      }
     },
     "7a43ba1429f645eda05a8570a46bac9c": {
      "model_module": "@jupyter-widgets/base",
      "model_module_version": "1.2.0",
      "model_name": "LayoutModel",
      "state": {
       "_model_module": "@jupyter-widgets/base",
       "_model_module_version": "1.2.0",
       "_model_name": "LayoutModel",
       "_view_count": null,
       "_view_module": "@jupyter-widgets/base",
       "_view_module_version": "1.2.0",
       "_view_name": "LayoutView",
       "align_content": null,
       "align_items": null,
       "align_self": null,
       "border": null,
       "bottom": null,
       "display": null,
       "flex": null,
       "flex_flow": null,
       "grid_area": null,
       "grid_auto_columns": null,
       "grid_auto_flow": null,
       "grid_auto_rows": null,
       "grid_column": null,
       "grid_gap": null,
       "grid_row": null,
       "grid_template_areas": null,
       "grid_template_columns": null,
       "grid_template_rows": null,
       "height": null,
       "justify_content": null,
       "justify_items": null,
       "left": null,
       "margin": null,
       "max_height": null,
       "max_width": null,
       "min_height": null,
       "min_width": null,
       "object_fit": null,
       "object_position": null,
       "order": null,
       "overflow": null,
       "overflow_x": null,
       "overflow_y": null,
       "padding": null,
       "right": null,
       "top": null,
       "visibility": null,
       "width": null
      }
     },
     "7aaff431398847d8a090cb8793859dbb": {
      "model_module": "@jupyter-widgets/controls",
      "model_module_version": "1.5.0",
      "model_name": "ProgressStyleModel",
      "state": {
       "_model_module": "@jupyter-widgets/controls",
       "_model_module_version": "1.5.0",
       "_model_name": "ProgressStyleModel",
       "_view_count": null,
       "_view_module": "@jupyter-widgets/base",
       "_view_module_version": "1.2.0",
       "_view_name": "StyleView",
       "bar_color": null,
       "description_width": ""
      }
     },
     "7d69d55556114ea080d0da541c433236": {
      "model_module": "@jupyter-widgets/controls",
      "model_module_version": "1.5.0",
      "model_name": "HTMLModel",
      "state": {
       "_dom_classes": [],
       "_model_module": "@jupyter-widgets/controls",
       "_model_module_version": "1.5.0",
       "_model_name": "HTMLModel",
       "_view_count": null,
       "_view_module": "@jupyter-widgets/controls",
       "_view_module_version": "1.5.0",
       "_view_name": "HTMLView",
       "description": "",
       "description_tooltip": null,
       "layout": "IPY_MODEL_dd5f748ac5bd4f57b1e9d19084cce622",
       "placeholder": "​",
       "style": "IPY_MODEL_dddefcf09a894b8d850ff1d8f106b86e",
       "value": "100%"
      }
     },
     "7e4b0e6dde3348cbb44293f75a5ac31d": {
      "model_module": "@jupyter-widgets/base",
      "model_module_version": "1.2.0",
      "model_name": "LayoutModel",
      "state": {
       "_model_module": "@jupyter-widgets/base",
       "_model_module_version": "1.2.0",
       "_model_name": "LayoutModel",
       "_view_count": null,
       "_view_module": "@jupyter-widgets/base",
       "_view_module_version": "1.2.0",
       "_view_name": "LayoutView",
       "align_content": null,
       "align_items": null,
       "align_self": null,
       "border": null,
       "bottom": null,
       "display": null,
       "flex": null,
       "flex_flow": null,
       "grid_area": null,
       "grid_auto_columns": null,
       "grid_auto_flow": null,
       "grid_auto_rows": null,
       "grid_column": null,
       "grid_gap": null,
       "grid_row": null,
       "grid_template_areas": null,
       "grid_template_columns": null,
       "grid_template_rows": null,
       "height": null,
       "justify_content": null,
       "justify_items": null,
       "left": null,
       "margin": null,
       "max_height": null,
       "max_width": null,
       "min_height": null,
       "min_width": null,
       "object_fit": null,
       "object_position": null,
       "order": null,
       "overflow": null,
       "overflow_x": null,
       "overflow_y": null,
       "padding": null,
       "right": null,
       "top": null,
       "visibility": null,
       "width": null
      }
     },
     "81e5891d87a9411bba8c59975334f60b": {
      "model_module": "@jupyter-widgets/controls",
      "model_module_version": "1.5.0",
      "model_name": "HBoxModel",
      "state": {
       "_dom_classes": [],
       "_model_module": "@jupyter-widgets/controls",
       "_model_module_version": "1.5.0",
       "_model_name": "HBoxModel",
       "_view_count": null,
       "_view_module": "@jupyter-widgets/controls",
       "_view_module_version": "1.5.0",
       "_view_name": "HBoxView",
       "box_style": "",
       "children": [
        "IPY_MODEL_dde3a668cda9459cb8687d969c63fb8a",
        "IPY_MODEL_c64b2282318d416b93c30a01f8042d4a",
        "IPY_MODEL_a7dd6e3353a142a3a28b0c8804fccddd"
       ],
       "layout": "IPY_MODEL_ed35cd280206424898dab2f9dc475c58"
      }
     },
     "836ac6e0e5b84079892f24aee0ed4f00": {
      "model_module": "@jupyter-widgets/controls",
      "model_module_version": "1.5.0",
      "model_name": "ProgressStyleModel",
      "state": {
       "_model_module": "@jupyter-widgets/controls",
       "_model_module_version": "1.5.0",
       "_model_name": "ProgressStyleModel",
       "_view_count": null,
       "_view_module": "@jupyter-widgets/base",
       "_view_module_version": "1.2.0",
       "_view_name": "StyleView",
       "bar_color": null,
       "description_width": ""
      }
     },
     "88515fcca8824efea3fc7542cf42ab4d": {
      "model_module": "@jupyter-widgets/base",
      "model_module_version": "1.2.0",
      "model_name": "LayoutModel",
      "state": {
       "_model_module": "@jupyter-widgets/base",
       "_model_module_version": "1.2.0",
       "_model_name": "LayoutModel",
       "_view_count": null,
       "_view_module": "@jupyter-widgets/base",
       "_view_module_version": "1.2.0",
       "_view_name": "LayoutView",
       "align_content": null,
       "align_items": null,
       "align_self": null,
       "border": null,
       "bottom": null,
       "display": null,
       "flex": null,
       "flex_flow": null,
       "grid_area": null,
       "grid_auto_columns": null,
       "grid_auto_flow": null,
       "grid_auto_rows": null,
       "grid_column": null,
       "grid_gap": null,
       "grid_row": null,
       "grid_template_areas": null,
       "grid_template_columns": null,
       "grid_template_rows": null,
       "height": null,
       "justify_content": null,
       "justify_items": null,
       "left": null,
       "margin": null,
       "max_height": null,
       "max_width": null,
       "min_height": null,
       "min_width": null,
       "object_fit": null,
       "object_position": null,
       "order": null,
       "overflow": null,
       "overflow_x": null,
       "overflow_y": null,
       "padding": null,
       "right": null,
       "top": null,
       "visibility": null,
       "width": null
      }
     },
     "8a76e7cda7c84973a4f510cbdbfebeef": {
      "model_module": "@jupyter-widgets/controls",
      "model_module_version": "1.5.0",
      "model_name": "HTMLModel",
      "state": {
       "_dom_classes": [],
       "_model_module": "@jupyter-widgets/controls",
       "_model_module_version": "1.5.0",
       "_model_name": "HTMLModel",
       "_view_count": null,
       "_view_module": "@jupyter-widgets/controls",
       "_view_module_version": "1.5.0",
       "_view_name": "HTMLView",
       "description": "",
       "description_tooltip": null,
       "layout": "IPY_MODEL_2be32ea8a3524b3e8b7b57e60f367491",
       "placeholder": "​",
       "style": "IPY_MODEL_2897552fed8f41f6a373c0e1ffb135dc",
       "value": "100%"
      }
     },
     "8bd4e69753984e7091fb6e81246698e6": {
      "model_module": "@jupyter-widgets/base",
      "model_module_version": "1.2.0",
      "model_name": "LayoutModel",
      "state": {
       "_model_module": "@jupyter-widgets/base",
       "_model_module_version": "1.2.0",
       "_model_name": "LayoutModel",
       "_view_count": null,
       "_view_module": "@jupyter-widgets/base",
       "_view_module_version": "1.2.0",
       "_view_name": "LayoutView",
       "align_content": null,
       "align_items": null,
       "align_self": null,
       "border": null,
       "bottom": null,
       "display": null,
       "flex": null,
       "flex_flow": null,
       "grid_area": null,
       "grid_auto_columns": null,
       "grid_auto_flow": null,
       "grid_auto_rows": null,
       "grid_column": null,
       "grid_gap": null,
       "grid_row": null,
       "grid_template_areas": null,
       "grid_template_columns": null,
       "grid_template_rows": null,
       "height": null,
       "justify_content": null,
       "justify_items": null,
       "left": null,
       "margin": null,
       "max_height": null,
       "max_width": null,
       "min_height": null,
       "min_width": null,
       "object_fit": null,
       "object_position": null,
       "order": null,
       "overflow": null,
       "overflow_x": null,
       "overflow_y": null,
       "padding": null,
       "right": null,
       "top": null,
       "visibility": null,
       "width": null
      }
     },
     "8beae104a1464bc4a2a8fc1f8c8c7119": {
      "model_module": "@jupyter-widgets/base",
      "model_module_version": "1.2.0",
      "model_name": "LayoutModel",
      "state": {
       "_model_module": "@jupyter-widgets/base",
       "_model_module_version": "1.2.0",
       "_model_name": "LayoutModel",
       "_view_count": null,
       "_view_module": "@jupyter-widgets/base",
       "_view_module_version": "1.2.0",
       "_view_name": "LayoutView",
       "align_content": null,
       "align_items": null,
       "align_self": null,
       "border": null,
       "bottom": null,
       "display": null,
       "flex": null,
       "flex_flow": null,
       "grid_area": null,
       "grid_auto_columns": null,
       "grid_auto_flow": null,
       "grid_auto_rows": null,
       "grid_column": null,
       "grid_gap": null,
       "grid_row": null,
       "grid_template_areas": null,
       "grid_template_columns": null,
       "grid_template_rows": null,
       "height": null,
       "justify_content": null,
       "justify_items": null,
       "left": null,
       "margin": null,
       "max_height": null,
       "max_width": null,
       "min_height": null,
       "min_width": null,
       "object_fit": null,
       "object_position": null,
       "order": null,
       "overflow": null,
       "overflow_x": null,
       "overflow_y": null,
       "padding": null,
       "right": null,
       "top": null,
       "visibility": null,
       "width": null
      }
     },
     "97af59832c3d46d48f8b459ae8fead87": {
      "model_module": "@jupyter-widgets/base",
      "model_module_version": "1.2.0",
      "model_name": "LayoutModel",
      "state": {
       "_model_module": "@jupyter-widgets/base",
       "_model_module_version": "1.2.0",
       "_model_name": "LayoutModel",
       "_view_count": null,
       "_view_module": "@jupyter-widgets/base",
       "_view_module_version": "1.2.0",
       "_view_name": "LayoutView",
       "align_content": null,
       "align_items": null,
       "align_self": null,
       "border": null,
       "bottom": null,
       "display": null,
       "flex": null,
       "flex_flow": null,
       "grid_area": null,
       "grid_auto_columns": null,
       "grid_auto_flow": null,
       "grid_auto_rows": null,
       "grid_column": null,
       "grid_gap": null,
       "grid_row": null,
       "grid_template_areas": null,
       "grid_template_columns": null,
       "grid_template_rows": null,
       "height": null,
       "justify_content": null,
       "justify_items": null,
       "left": null,
       "margin": null,
       "max_height": null,
       "max_width": null,
       "min_height": null,
       "min_width": null,
       "object_fit": null,
       "object_position": null,
       "order": null,
       "overflow": null,
       "overflow_x": null,
       "overflow_y": null,
       "padding": null,
       "right": null,
       "top": null,
       "visibility": null,
       "width": null
      }
     },
     "97f558a555ed46ef8c03f51a8e95ac16": {
      "model_module": "@jupyter-widgets/base",
      "model_module_version": "1.2.0",
      "model_name": "LayoutModel",
      "state": {
       "_model_module": "@jupyter-widgets/base",
       "_model_module_version": "1.2.0",
       "_model_name": "LayoutModel",
       "_view_count": null,
       "_view_module": "@jupyter-widgets/base",
       "_view_module_version": "1.2.0",
       "_view_name": "LayoutView",
       "align_content": null,
       "align_items": null,
       "align_self": null,
       "border": null,
       "bottom": null,
       "display": null,
       "flex": null,
       "flex_flow": null,
       "grid_area": null,
       "grid_auto_columns": null,
       "grid_auto_flow": null,
       "grid_auto_rows": null,
       "grid_column": null,
       "grid_gap": null,
       "grid_row": null,
       "grid_template_areas": null,
       "grid_template_columns": null,
       "grid_template_rows": null,
       "height": null,
       "justify_content": null,
       "justify_items": null,
       "left": null,
       "margin": null,
       "max_height": null,
       "max_width": null,
       "min_height": null,
       "min_width": null,
       "object_fit": null,
       "object_position": null,
       "order": null,
       "overflow": null,
       "overflow_x": null,
       "overflow_y": null,
       "padding": null,
       "right": null,
       "top": null,
       "visibility": null,
       "width": null
      }
     },
     "9b1c8fbc13b8435599a2d79f77ada68e": {
      "model_module": "@jupyter-widgets/controls",
      "model_module_version": "1.5.0",
      "model_name": "DescriptionStyleModel",
      "state": {
       "_model_module": "@jupyter-widgets/controls",
       "_model_module_version": "1.5.0",
       "_model_name": "DescriptionStyleModel",
       "_view_count": null,
       "_view_module": "@jupyter-widgets/base",
       "_view_module_version": "1.2.0",
       "_view_name": "StyleView",
       "description_width": ""
      }
     },
     "9c0e2dfc9bfa4806a4f49fc70f28bbb9": {
      "model_module": "@jupyter-widgets/controls",
      "model_module_version": "1.5.0",
      "model_name": "HBoxModel",
      "state": {
       "_dom_classes": [],
       "_model_module": "@jupyter-widgets/controls",
       "_model_module_version": "1.5.0",
       "_model_name": "HBoxModel",
       "_view_count": null,
       "_view_module": "@jupyter-widgets/controls",
       "_view_module_version": "1.5.0",
       "_view_name": "HBoxView",
       "box_style": "",
       "children": [
        "IPY_MODEL_16896d0919184e81b5c3916850508277",
        "IPY_MODEL_b2cad578e53c4a6cae9fff0e579432b2",
        "IPY_MODEL_6cf25d689de14bfbbb8ef63abd7c97ca"
       ],
       "layout": "IPY_MODEL_97f558a555ed46ef8c03f51a8e95ac16"
      }
     },
     "9e62ccb5e5a241529c3559d90103e946": {
      "model_module": "@jupyter-widgets/controls",
      "model_module_version": "1.5.0",
      "model_name": "HBoxModel",
      "state": {
       "_dom_classes": [],
       "_model_module": "@jupyter-widgets/controls",
       "_model_module_version": "1.5.0",
       "_model_name": "HBoxModel",
       "_view_count": null,
       "_view_module": "@jupyter-widgets/controls",
       "_view_module_version": "1.5.0",
       "_view_name": "HBoxView",
       "box_style": "",
       "children": [
        "IPY_MODEL_e7a750e9a6a648038e6dc775011187b5",
        "IPY_MODEL_7513d1d0f9de44dbb23578fcac2ccd4e",
        "IPY_MODEL_c65987ab5a5b4aa2b620ffee440040fd"
       ],
       "layout": "IPY_MODEL_ae81eb694aef4535bfcab80f1ce5b299"
      }
     },
     "a097efdf291544fdacb1432b96a0a1b0": {
      "model_module": "@jupyter-widgets/base",
      "model_module_version": "1.2.0",
      "model_name": "LayoutModel",
      "state": {
       "_model_module": "@jupyter-widgets/base",
       "_model_module_version": "1.2.0",
       "_model_name": "LayoutModel",
       "_view_count": null,
       "_view_module": "@jupyter-widgets/base",
       "_view_module_version": "1.2.0",
       "_view_name": "LayoutView",
       "align_content": null,
       "align_items": null,
       "align_self": null,
       "border": null,
       "bottom": null,
       "display": null,
       "flex": null,
       "flex_flow": null,
       "grid_area": null,
       "grid_auto_columns": null,
       "grid_auto_flow": null,
       "grid_auto_rows": null,
       "grid_column": null,
       "grid_gap": null,
       "grid_row": null,
       "grid_template_areas": null,
       "grid_template_columns": null,
       "grid_template_rows": null,
       "height": null,
       "justify_content": null,
       "justify_items": null,
       "left": null,
       "margin": null,
       "max_height": null,
       "max_width": null,
       "min_height": null,
       "min_width": null,
       "object_fit": null,
       "object_position": null,
       "order": null,
       "overflow": null,
       "overflow_x": null,
       "overflow_y": null,
       "padding": null,
       "right": null,
       "top": null,
       "visibility": null,
       "width": null
      }
     },
     "a391f2552ea34f2db586a89542875564": {
      "model_module": "@jupyter-widgets/controls",
      "model_module_version": "1.5.0",
      "model_name": "ProgressStyleModel",
      "state": {
       "_model_module": "@jupyter-widgets/controls",
       "_model_module_version": "1.5.0",
       "_model_name": "ProgressStyleModel",
       "_view_count": null,
       "_view_module": "@jupyter-widgets/base",
       "_view_module_version": "1.2.0",
       "_view_name": "StyleView",
       "bar_color": null,
       "description_width": ""
      }
     },
     "a7dd6e3353a142a3a28b0c8804fccddd": {
      "model_module": "@jupyter-widgets/controls",
      "model_module_version": "1.5.0",
      "model_name": "HTMLModel",
      "state": {
       "_dom_classes": [],
       "_model_module": "@jupyter-widgets/controls",
       "_model_module_version": "1.5.0",
       "_model_name": "HTMLModel",
       "_view_count": null,
       "_view_module": "@jupyter-widgets/controls",
       "_view_module_version": "1.5.0",
       "_view_name": "HTMLView",
       "description": "",
       "description_tooltip": null,
       "layout": "IPY_MODEL_b200f42c84fd4caaa0c052f5f173a863",
       "placeholder": "​",
       "style": "IPY_MODEL_d8f6e03e88624d3096e9aa4c87ce48d6",
       "value": " 985/985 [00:06&lt;00:00, 157.60it/s]"
      }
     },
     "a990a822e0324ab995c42164a89e1a6b": {
      "model_module": "@jupyter-widgets/controls",
      "model_module_version": "1.5.0",
      "model_name": "HTMLModel",
      "state": {
       "_dom_classes": [],
       "_model_module": "@jupyter-widgets/controls",
       "_model_module_version": "1.5.0",
       "_model_name": "HTMLModel",
       "_view_count": null,
       "_view_module": "@jupyter-widgets/controls",
       "_view_module_version": "1.5.0",
       "_view_name": "HTMLView",
       "description": "",
       "description_tooltip": null,
       "layout": "IPY_MODEL_f56ed58190774b61a9686d23c6fd82ca",
       "placeholder": "​",
       "style": "IPY_MODEL_34e80d226c4044d38882a0b1982034a2",
       "value": " 985/985 [00:06&lt;00:00, 161.43it/s]"
      }
     },
     "aa3f9a52ba0743219072287c39bb3ac3": {
      "model_module": "@jupyter-widgets/base",
      "model_module_version": "1.2.0",
      "model_name": "LayoutModel",
      "state": {
       "_model_module": "@jupyter-widgets/base",
       "_model_module_version": "1.2.0",
       "_model_name": "LayoutModel",
       "_view_count": null,
       "_view_module": "@jupyter-widgets/base",
       "_view_module_version": "1.2.0",
       "_view_name": "LayoutView",
       "align_content": null,
       "align_items": null,
       "align_self": null,
       "border": null,
       "bottom": null,
       "display": null,
       "flex": null,
       "flex_flow": null,
       "grid_area": null,
       "grid_auto_columns": null,
       "grid_auto_flow": null,
       "grid_auto_rows": null,
       "grid_column": null,
       "grid_gap": null,
       "grid_row": null,
       "grid_template_areas": null,
       "grid_template_columns": null,
       "grid_template_rows": null,
       "height": null,
       "justify_content": null,
       "justify_items": null,
       "left": null,
       "margin": null,
       "max_height": null,
       "max_width": null,
       "min_height": null,
       "min_width": null,
       "object_fit": null,
       "object_position": null,
       "order": null,
       "overflow": null,
       "overflow_x": null,
       "overflow_y": null,
       "padding": null,
       "right": null,
       "top": null,
       "visibility": null,
       "width": null
      }
     },
     "ab3711c2f1514deab65511b66ea3a769": {
      "model_module": "@jupyter-widgets/base",
      "model_module_version": "1.2.0",
      "model_name": "LayoutModel",
      "state": {
       "_model_module": "@jupyter-widgets/base",
       "_model_module_version": "1.2.0",
       "_model_name": "LayoutModel",
       "_view_count": null,
       "_view_module": "@jupyter-widgets/base",
       "_view_module_version": "1.2.0",
       "_view_name": "LayoutView",
       "align_content": null,
       "align_items": null,
       "align_self": null,
       "border": null,
       "bottom": null,
       "display": null,
       "flex": null,
       "flex_flow": null,
       "grid_area": null,
       "grid_auto_columns": null,
       "grid_auto_flow": null,
       "grid_auto_rows": null,
       "grid_column": null,
       "grid_gap": null,
       "grid_row": null,
       "grid_template_areas": null,
       "grid_template_columns": null,
       "grid_template_rows": null,
       "height": null,
       "justify_content": null,
       "justify_items": null,
       "left": null,
       "margin": null,
       "max_height": null,
       "max_width": null,
       "min_height": null,
       "min_width": null,
       "object_fit": null,
       "object_position": null,
       "order": null,
       "overflow": null,
       "overflow_x": null,
       "overflow_y": null,
       "padding": null,
       "right": null,
       "top": null,
       "visibility": null,
       "width": null
      }
     },
     "abc9108b04914a3d9173a2f457ff5999": {
      "model_module": "@jupyter-widgets/controls",
      "model_module_version": "1.5.0",
      "model_name": "HTMLModel",
      "state": {
       "_dom_classes": [],
       "_model_module": "@jupyter-widgets/controls",
       "_model_module_version": "1.5.0",
       "_model_name": "HTMLModel",
       "_view_count": null,
       "_view_module": "@jupyter-widgets/controls",
       "_view_module_version": "1.5.0",
       "_view_name": "HTMLView",
       "description": "",
       "description_tooltip": null,
       "layout": "IPY_MODEL_8bd4e69753984e7091fb6e81246698e6",
       "placeholder": "​",
       "style": "IPY_MODEL_0b02c714c2154bebb38aff4bf6327b3e",
       "value": "100%"
      }
     },
     "abd62e44cee048a68b042d583139cb67": {
      "model_module": "@jupyter-widgets/base",
      "model_module_version": "1.2.0",
      "model_name": "LayoutModel",
      "state": {
       "_model_module": "@jupyter-widgets/base",
       "_model_module_version": "1.2.0",
       "_model_name": "LayoutModel",
       "_view_count": null,
       "_view_module": "@jupyter-widgets/base",
       "_view_module_version": "1.2.0",
       "_view_name": "LayoutView",
       "align_content": null,
       "align_items": null,
       "align_self": null,
       "border": null,
       "bottom": null,
       "display": null,
       "flex": null,
       "flex_flow": null,
       "grid_area": null,
       "grid_auto_columns": null,
       "grid_auto_flow": null,
       "grid_auto_rows": null,
       "grid_column": null,
       "grid_gap": null,
       "grid_row": null,
       "grid_template_areas": null,
       "grid_template_columns": null,
       "grid_template_rows": null,
       "height": null,
       "justify_content": null,
       "justify_items": null,
       "left": null,
       "margin": null,
       "max_height": null,
       "max_width": null,
       "min_height": null,
       "min_width": null,
       "object_fit": null,
       "object_position": null,
       "order": null,
       "overflow": null,
       "overflow_x": null,
       "overflow_y": null,
       "padding": null,
       "right": null,
       "top": null,
       "visibility": null,
       "width": null
      }
     },
     "ae42b0d22317421c9332cb7eb7c1a2e4": {
      "model_module": "@jupyter-widgets/controls",
      "model_module_version": "1.5.0",
      "model_name": "HBoxModel",
      "state": {
       "_dom_classes": [],
       "_model_module": "@jupyter-widgets/controls",
       "_model_module_version": "1.5.0",
       "_model_name": "HBoxModel",
       "_view_count": null,
       "_view_module": "@jupyter-widgets/controls",
       "_view_module_version": "1.5.0",
       "_view_name": "HBoxView",
       "box_style": "",
       "children": [
        "IPY_MODEL_8a76e7cda7c84973a4f510cbdbfebeef",
        "IPY_MODEL_eeeda4b9ee0d4928af18b7bcacbe99c5",
        "IPY_MODEL_138c93a6fd9144d3804db7ce72e94841"
       ],
       "layout": "IPY_MODEL_ba577813f6f44af888ab83a4638d34b5"
      }
     },
     "ae81eb694aef4535bfcab80f1ce5b299": {
      "model_module": "@jupyter-widgets/base",
      "model_module_version": "1.2.0",
      "model_name": "LayoutModel",
      "state": {
       "_model_module": "@jupyter-widgets/base",
       "_model_module_version": "1.2.0",
       "_model_name": "LayoutModel",
       "_view_count": null,
       "_view_module": "@jupyter-widgets/base",
       "_view_module_version": "1.2.0",
       "_view_name": "LayoutView",
       "align_content": null,
       "align_items": null,
       "align_self": null,
       "border": null,
       "bottom": null,
       "display": null,
       "flex": null,
       "flex_flow": null,
       "grid_area": null,
       "grid_auto_columns": null,
       "grid_auto_flow": null,
       "grid_auto_rows": null,
       "grid_column": null,
       "grid_gap": null,
       "grid_row": null,
       "grid_template_areas": null,
       "grid_template_columns": null,
       "grid_template_rows": null,
       "height": null,
       "justify_content": null,
       "justify_items": null,
       "left": null,
       "margin": null,
       "max_height": null,
       "max_width": null,
       "min_height": null,
       "min_width": null,
       "object_fit": null,
       "object_position": null,
       "order": null,
       "overflow": null,
       "overflow_x": null,
       "overflow_y": null,
       "padding": null,
       "right": null,
       "top": null,
       "visibility": null,
       "width": null
      }
     },
     "b200f42c84fd4caaa0c052f5f173a863": {
      "model_module": "@jupyter-widgets/base",
      "model_module_version": "1.2.0",
      "model_name": "LayoutModel",
      "state": {
       "_model_module": "@jupyter-widgets/base",
       "_model_module_version": "1.2.0",
       "_model_name": "LayoutModel",
       "_view_count": null,
       "_view_module": "@jupyter-widgets/base",
       "_view_module_version": "1.2.0",
       "_view_name": "LayoutView",
       "align_content": null,
       "align_items": null,
       "align_self": null,
       "border": null,
       "bottom": null,
       "display": null,
       "flex": null,
       "flex_flow": null,
       "grid_area": null,
       "grid_auto_columns": null,
       "grid_auto_flow": null,
       "grid_auto_rows": null,
       "grid_column": null,
       "grid_gap": null,
       "grid_row": null,
       "grid_template_areas": null,
       "grid_template_columns": null,
       "grid_template_rows": null,
       "height": null,
       "justify_content": null,
       "justify_items": null,
       "left": null,
       "margin": null,
       "max_height": null,
       "max_width": null,
       "min_height": null,
       "min_width": null,
       "object_fit": null,
       "object_position": null,
       "order": null,
       "overflow": null,
       "overflow_x": null,
       "overflow_y": null,
       "padding": null,
       "right": null,
       "top": null,
       "visibility": null,
       "width": null
      }
     },
     "b2cad578e53c4a6cae9fff0e579432b2": {
      "model_module": "@jupyter-widgets/controls",
      "model_module_version": "1.5.0",
      "model_name": "FloatProgressModel",
      "state": {
       "_dom_classes": [],
       "_model_module": "@jupyter-widgets/controls",
       "_model_module_version": "1.5.0",
       "_model_name": "FloatProgressModel",
       "_view_count": null,
       "_view_module": "@jupyter-widgets/controls",
       "_view_module_version": "1.5.0",
       "_view_name": "ProgressView",
       "bar_style": "success",
       "description": "",
       "description_tooltip": null,
       "layout": "IPY_MODEL_cf32f93f15174b94be14efa8e6b56b6d",
       "max": 985.0,
       "min": 0.0,
       "orientation": "horizontal",
       "style": "IPY_MODEL_2dc14358a5e6416d856ab7b6ca213940",
       "value": 985.0
      }
     },
     "b2f91c1aec684972b3a30173f4540834": {
      "model_module": "@jupyter-widgets/base",
      "model_module_version": "1.2.0",
      "model_name": "LayoutModel",
      "state": {
       "_model_module": "@jupyter-widgets/base",
       "_model_module_version": "1.2.0",
       "_model_name": "LayoutModel",
       "_view_count": null,
       "_view_module": "@jupyter-widgets/base",
       "_view_module_version": "1.2.0",
       "_view_name": "LayoutView",
       "align_content": null,
       "align_items": null,
       "align_self": null,
       "border": null,
       "bottom": null,
       "display": null,
       "flex": null,
       "flex_flow": null,
       "grid_area": null,
       "grid_auto_columns": null,
       "grid_auto_flow": null,
       "grid_auto_rows": null,
       "grid_column": null,
       "grid_gap": null,
       "grid_row": null,
       "grid_template_areas": null,
       "grid_template_columns": null,
       "grid_template_rows": null,
       "height": null,
       "justify_content": null,
       "justify_items": null,
       "left": null,
       "margin": null,
       "max_height": null,
       "max_width": null,
       "min_height": null,
       "min_width": null,
       "object_fit": null,
       "object_position": null,
       "order": null,
       "overflow": null,
       "overflow_x": null,
       "overflow_y": null,
       "padding": null,
       "right": null,
       "top": null,
       "visibility": null,
       "width": null
      }
     },
     "b85f305746734a579dde5bf0e68f8d5d": {
      "model_module": "@jupyter-widgets/controls",
      "model_module_version": "1.5.0",
      "model_name": "HTMLModel",
      "state": {
       "_dom_classes": [],
       "_model_module": "@jupyter-widgets/controls",
       "_model_module_version": "1.5.0",
       "_model_name": "HTMLModel",
       "_view_count": null,
       "_view_module": "@jupyter-widgets/controls",
       "_view_module_version": "1.5.0",
       "_view_name": "HTMLView",
       "description": "",
       "description_tooltip": null,
       "layout": "IPY_MODEL_eee63aa3190a4693bb72245377f43937",
       "placeholder": "​",
       "style": "IPY_MODEL_384d11bf0a504d049e07cb33f219a272",
       "value": "100%"
      }
     },
     "b951e6cf368244a5af1157e574e2cf8b": {
      "model_module": "@jupyter-widgets/controls",
      "model_module_version": "1.5.0",
      "model_name": "FloatProgressModel",
      "state": {
       "_dom_classes": [],
       "_model_module": "@jupyter-widgets/controls",
       "_model_module_version": "1.5.0",
       "_model_name": "FloatProgressModel",
       "_view_count": null,
       "_view_module": "@jupyter-widgets/controls",
       "_view_module_version": "1.5.0",
       "_view_name": "ProgressView",
       "bar_style": "success",
       "description": "",
       "description_tooltip": null,
       "layout": "IPY_MODEL_4a7bd040a3fa40daa064d69b0cb66dba",
       "max": 985.0,
       "min": 0.0,
       "orientation": "horizontal",
       "style": "IPY_MODEL_f1ee9d2b3c17472bb95dcd7643c0247f",
       "value": 985.0
      }
     },
     "ba1e7925b4b8404cba8d53133b3895b4": {
      "model_module": "@jupyter-widgets/controls",
      "model_module_version": "1.5.0",
      "model_name": "HBoxModel",
      "state": {
       "_dom_classes": [],
       "_model_module": "@jupyter-widgets/controls",
       "_model_module_version": "1.5.0",
       "_model_name": "HBoxModel",
       "_view_count": null,
       "_view_module": "@jupyter-widgets/controls",
       "_view_module_version": "1.5.0",
       "_view_name": "HBoxView",
       "box_style": "",
       "children": [
        "IPY_MODEL_7d69d55556114ea080d0da541c433236",
        "IPY_MODEL_d8396f20faaf40699bd48cd9bfbc0c2d",
        "IPY_MODEL_613cd234a2c847d98703512bd05225c7"
       ],
       "layout": "IPY_MODEL_2abcf17ca21a46eb8b2ac6f3e2ee4202"
      }
     },
     "ba577813f6f44af888ab83a4638d34b5": {
      "model_module": "@jupyter-widgets/base",
      "model_module_version": "1.2.0",
      "model_name": "LayoutModel",
      "state": {
       "_model_module": "@jupyter-widgets/base",
       "_model_module_version": "1.2.0",
       "_model_name": "LayoutModel",
       "_view_count": null,
       "_view_module": "@jupyter-widgets/base",
       "_view_module_version": "1.2.0",
       "_view_name": "LayoutView",
       "align_content": null,
       "align_items": null,
       "align_self": null,
       "border": null,
       "bottom": null,
       "display": null,
       "flex": null,
       "flex_flow": null,
       "grid_area": null,
       "grid_auto_columns": null,
       "grid_auto_flow": null,
       "grid_auto_rows": null,
       "grid_column": null,
       "grid_gap": null,
       "grid_row": null,
       "grid_template_areas": null,
       "grid_template_columns": null,
       "grid_template_rows": null,
       "height": null,
       "justify_content": null,
       "justify_items": null,
       "left": null,
       "margin": null,
       "max_height": null,
       "max_width": null,
       "min_height": null,
       "min_width": null,
       "object_fit": null,
       "object_position": null,
       "order": null,
       "overflow": null,
       "overflow_x": null,
       "overflow_y": null,
       "padding": null,
       "right": null,
       "top": null,
       "visibility": null,
       "width": null
      }
     },
     "bbb7d5a7a696497eafc41d7612815de2": {
      "model_module": "@jupyter-widgets/base",
      "model_module_version": "1.2.0",
      "model_name": "LayoutModel",
      "state": {
       "_model_module": "@jupyter-widgets/base",
       "_model_module_version": "1.2.0",
       "_model_name": "LayoutModel",
       "_view_count": null,
       "_view_module": "@jupyter-widgets/base",
       "_view_module_version": "1.2.0",
       "_view_name": "LayoutView",
       "align_content": null,
       "align_items": null,
       "align_self": null,
       "border": null,
       "bottom": null,
       "display": null,
       "flex": null,
       "flex_flow": null,
       "grid_area": null,
       "grid_auto_columns": null,
       "grid_auto_flow": null,
       "grid_auto_rows": null,
       "grid_column": null,
       "grid_gap": null,
       "grid_row": null,
       "grid_template_areas": null,
       "grid_template_columns": null,
       "grid_template_rows": null,
       "height": null,
       "justify_content": null,
       "justify_items": null,
       "left": null,
       "margin": null,
       "max_height": null,
       "max_width": null,
       "min_height": null,
       "min_width": null,
       "object_fit": null,
       "object_position": null,
       "order": null,
       "overflow": null,
       "overflow_x": null,
       "overflow_y": null,
       "padding": null,
       "right": null,
       "top": null,
       "visibility": null,
       "width": null
      }
     },
     "bbe46536bbaa45e3a8dfdc9786ee4818": {
      "model_module": "@jupyter-widgets/controls",
      "model_module_version": "1.5.0",
      "model_name": "DescriptionStyleModel",
      "state": {
       "_model_module": "@jupyter-widgets/controls",
       "_model_module_version": "1.5.0",
       "_model_name": "DescriptionStyleModel",
       "_view_count": null,
       "_view_module": "@jupyter-widgets/base",
       "_view_module_version": "1.2.0",
       "_view_name": "StyleView",
       "description_width": ""
      }
     },
     "bc7708a88e51482fad79e1e993455cb8": {
      "model_module": "@jupyter-widgets/controls",
      "model_module_version": "1.5.0",
      "model_name": "HTMLModel",
      "state": {
       "_dom_classes": [],
       "_model_module": "@jupyter-widgets/controls",
       "_model_module_version": "1.5.0",
       "_model_name": "HTMLModel",
       "_view_count": null,
       "_view_module": "@jupyter-widgets/controls",
       "_view_module_version": "1.5.0",
       "_view_name": "HTMLView",
       "description": "",
       "description_tooltip": null,
       "layout": "IPY_MODEL_aa3f9a52ba0743219072287c39bb3ac3",
       "placeholder": "​",
       "style": "IPY_MODEL_7537ac1df2c447ca92cd67f1a1fe0eed",
       "value": " 985/985 [00:06&lt;00:00, 164.10it/s]"
      }
     },
     "bf0194a919cb418a90cbae26ada27a9a": {
      "model_module": "@jupyter-widgets/base",
      "model_module_version": "1.2.0",
      "model_name": "LayoutModel",
      "state": {
       "_model_module": "@jupyter-widgets/base",
       "_model_module_version": "1.2.0",
       "_model_name": "LayoutModel",
       "_view_count": null,
       "_view_module": "@jupyter-widgets/base",
       "_view_module_version": "1.2.0",
       "_view_name": "LayoutView",
       "align_content": null,
       "align_items": null,
       "align_self": null,
       "border": null,
       "bottom": null,
       "display": null,
       "flex": null,
       "flex_flow": null,
       "grid_area": null,
       "grid_auto_columns": null,
       "grid_auto_flow": null,
       "grid_auto_rows": null,
       "grid_column": null,
       "grid_gap": null,
       "grid_row": null,
       "grid_template_areas": null,
       "grid_template_columns": null,
       "grid_template_rows": null,
       "height": null,
       "justify_content": null,
       "justify_items": null,
       "left": null,
       "margin": null,
       "max_height": null,
       "max_width": null,
       "min_height": null,
       "min_width": null,
       "object_fit": null,
       "object_position": null,
       "order": null,
       "overflow": null,
       "overflow_x": null,
       "overflow_y": null,
       "padding": null,
       "right": null,
       "top": null,
       "visibility": null,
       "width": null
      }
     },
     "c4a1607fa53746f09b54738c8a46b3e9": {
      "model_module": "@jupyter-widgets/controls",
      "model_module_version": "1.5.0",
      "model_name": "FloatProgressModel",
      "state": {
       "_dom_classes": [],
       "_model_module": "@jupyter-widgets/controls",
       "_model_module_version": "1.5.0",
       "_model_name": "FloatProgressModel",
       "_view_count": null,
       "_view_module": "@jupyter-widgets/controls",
       "_view_module_version": "1.5.0",
       "_view_name": "ProgressView",
       "bar_style": "success",
       "description": "",
       "description_tooltip": null,
       "layout": "IPY_MODEL_7e4b0e6dde3348cbb44293f75a5ac31d",
       "max": 985.0,
       "min": 0.0,
       "orientation": "horizontal",
       "style": "IPY_MODEL_55340a3838944b70b08f3f31f70e1cd9",
       "value": 985.0
      }
     },
     "c64b2282318d416b93c30a01f8042d4a": {
      "model_module": "@jupyter-widgets/controls",
      "model_module_version": "1.5.0",
      "model_name": "FloatProgressModel",
      "state": {
       "_dom_classes": [],
       "_model_module": "@jupyter-widgets/controls",
       "_model_module_version": "1.5.0",
       "_model_name": "FloatProgressModel",
       "_view_count": null,
       "_view_module": "@jupyter-widgets/controls",
       "_view_module_version": "1.5.0",
       "_view_name": "ProgressView",
       "bar_style": "success",
       "description": "",
       "description_tooltip": null,
       "layout": "IPY_MODEL_d6188d32d3bf4784b314e0db06635a9e",
       "max": 985.0,
       "min": 0.0,
       "orientation": "horizontal",
       "style": "IPY_MODEL_836ac6e0e5b84079892f24aee0ed4f00",
       "value": 985.0
      }
     },
     "c65987ab5a5b4aa2b620ffee440040fd": {
      "model_module": "@jupyter-widgets/controls",
      "model_module_version": "1.5.0",
      "model_name": "HTMLModel",
      "state": {
       "_dom_classes": [],
       "_model_module": "@jupyter-widgets/controls",
       "_model_module_version": "1.5.0",
       "_model_name": "HTMLModel",
       "_view_count": null,
       "_view_module": "@jupyter-widgets/controls",
       "_view_module_version": "1.5.0",
       "_view_name": "HTMLView",
       "description": "",
       "description_tooltip": null,
       "layout": "IPY_MODEL_bbb7d5a7a696497eafc41d7612815de2",
       "placeholder": "​",
       "style": "IPY_MODEL_65236e1437af4c62a91bbf4f81658a43",
       "value": " 985/985 [00:06&lt;00:00, 163.61it/s]"
      }
     },
     "c78de1216d7c4c60b5af7130624404f6": {
      "model_module": "@jupyter-widgets/base",
      "model_module_version": "1.2.0",
      "model_name": "LayoutModel",
      "state": {
       "_model_module": "@jupyter-widgets/base",
       "_model_module_version": "1.2.0",
       "_model_name": "LayoutModel",
       "_view_count": null,
       "_view_module": "@jupyter-widgets/base",
       "_view_module_version": "1.2.0",
       "_view_name": "LayoutView",
       "align_content": null,
       "align_items": null,
       "align_self": null,
       "border": null,
       "bottom": null,
       "display": null,
       "flex": null,
       "flex_flow": null,
       "grid_area": null,
       "grid_auto_columns": null,
       "grid_auto_flow": null,
       "grid_auto_rows": null,
       "grid_column": null,
       "grid_gap": null,
       "grid_row": null,
       "grid_template_areas": null,
       "grid_template_columns": null,
       "grid_template_rows": null,
       "height": null,
       "justify_content": null,
       "justify_items": null,
       "left": null,
       "margin": null,
       "max_height": null,
       "max_width": null,
       "min_height": null,
       "min_width": null,
       "object_fit": null,
       "object_position": null,
       "order": null,
       "overflow": null,
       "overflow_x": null,
       "overflow_y": null,
       "padding": null,
       "right": null,
       "top": null,
       "visibility": null,
       "width": null
      }
     },
     "cf23a518776446cf8100ad3a681beaf1": {
      "model_module": "@jupyter-widgets/base",
      "model_module_version": "1.2.0",
      "model_name": "LayoutModel",
      "state": {
       "_model_module": "@jupyter-widgets/base",
       "_model_module_version": "1.2.0",
       "_model_name": "LayoutModel",
       "_view_count": null,
       "_view_module": "@jupyter-widgets/base",
       "_view_module_version": "1.2.0",
       "_view_name": "LayoutView",
       "align_content": null,
       "align_items": null,
       "align_self": null,
       "border": null,
       "bottom": null,
       "display": null,
       "flex": null,
       "flex_flow": null,
       "grid_area": null,
       "grid_auto_columns": null,
       "grid_auto_flow": null,
       "grid_auto_rows": null,
       "grid_column": null,
       "grid_gap": null,
       "grid_row": null,
       "grid_template_areas": null,
       "grid_template_columns": null,
       "grid_template_rows": null,
       "height": null,
       "justify_content": null,
       "justify_items": null,
       "left": null,
       "margin": null,
       "max_height": null,
       "max_width": null,
       "min_height": null,
       "min_width": null,
       "object_fit": null,
       "object_position": null,
       "order": null,
       "overflow": null,
       "overflow_x": null,
       "overflow_y": null,
       "padding": null,
       "right": null,
       "top": null,
       "visibility": null,
       "width": null
      }
     },
     "cf32f93f15174b94be14efa8e6b56b6d": {
      "model_module": "@jupyter-widgets/base",
      "model_module_version": "1.2.0",
      "model_name": "LayoutModel",
      "state": {
       "_model_module": "@jupyter-widgets/base",
       "_model_module_version": "1.2.0",
       "_model_name": "LayoutModel",
       "_view_count": null,
       "_view_module": "@jupyter-widgets/base",
       "_view_module_version": "1.2.0",
       "_view_name": "LayoutView",
       "align_content": null,
       "align_items": null,
       "align_self": null,
       "border": null,
       "bottom": null,
       "display": null,
       "flex": null,
       "flex_flow": null,
       "grid_area": null,
       "grid_auto_columns": null,
       "grid_auto_flow": null,
       "grid_auto_rows": null,
       "grid_column": null,
       "grid_gap": null,
       "grid_row": null,
       "grid_template_areas": null,
       "grid_template_columns": null,
       "grid_template_rows": null,
       "height": null,
       "justify_content": null,
       "justify_items": null,
       "left": null,
       "margin": null,
       "max_height": null,
       "max_width": null,
       "min_height": null,
       "min_width": null,
       "object_fit": null,
       "object_position": null,
       "order": null,
       "overflow": null,
       "overflow_x": null,
       "overflow_y": null,
       "padding": null,
       "right": null,
       "top": null,
       "visibility": null,
       "width": null
      }
     },
     "d433d13b8c7d4b70b15f7d1518caedad": {
      "model_module": "@jupyter-widgets/base",
      "model_module_version": "1.2.0",
      "model_name": "LayoutModel",
      "state": {
       "_model_module": "@jupyter-widgets/base",
       "_model_module_version": "1.2.0",
       "_model_name": "LayoutModel",
       "_view_count": null,
       "_view_module": "@jupyter-widgets/base",
       "_view_module_version": "1.2.0",
       "_view_name": "LayoutView",
       "align_content": null,
       "align_items": null,
       "align_self": null,
       "border": null,
       "bottom": null,
       "display": null,
       "flex": null,
       "flex_flow": null,
       "grid_area": null,
       "grid_auto_columns": null,
       "grid_auto_flow": null,
       "grid_auto_rows": null,
       "grid_column": null,
       "grid_gap": null,
       "grid_row": null,
       "grid_template_areas": null,
       "grid_template_columns": null,
       "grid_template_rows": null,
       "height": null,
       "justify_content": null,
       "justify_items": null,
       "left": null,
       "margin": null,
       "max_height": null,
       "max_width": null,
       "min_height": null,
       "min_width": null,
       "object_fit": null,
       "object_position": null,
       "order": null,
       "overflow": null,
       "overflow_x": null,
       "overflow_y": null,
       "padding": null,
       "right": null,
       "top": null,
       "visibility": null,
       "width": null
      }
     },
     "d5e973b9fef54ec38cc05887996ab3c9": {
      "model_module": "@jupyter-widgets/base",
      "model_module_version": "1.2.0",
      "model_name": "LayoutModel",
      "state": {
       "_model_module": "@jupyter-widgets/base",
       "_model_module_version": "1.2.0",
       "_model_name": "LayoutModel",
       "_view_count": null,
       "_view_module": "@jupyter-widgets/base",
       "_view_module_version": "1.2.0",
       "_view_name": "LayoutView",
       "align_content": null,
       "align_items": null,
       "align_self": null,
       "border": null,
       "bottom": null,
       "display": null,
       "flex": null,
       "flex_flow": null,
       "grid_area": null,
       "grid_auto_columns": null,
       "grid_auto_flow": null,
       "grid_auto_rows": null,
       "grid_column": null,
       "grid_gap": null,
       "grid_row": null,
       "grid_template_areas": null,
       "grid_template_columns": null,
       "grid_template_rows": null,
       "height": null,
       "justify_content": null,
       "justify_items": null,
       "left": null,
       "margin": null,
       "max_height": null,
       "max_width": null,
       "min_height": null,
       "min_width": null,
       "object_fit": null,
       "object_position": null,
       "order": null,
       "overflow": null,
       "overflow_x": null,
       "overflow_y": null,
       "padding": null,
       "right": null,
       "top": null,
       "visibility": null,
       "width": null
      }
     },
     "d6188d32d3bf4784b314e0db06635a9e": {
      "model_module": "@jupyter-widgets/base",
      "model_module_version": "1.2.0",
      "model_name": "LayoutModel",
      "state": {
       "_model_module": "@jupyter-widgets/base",
       "_model_module_version": "1.2.0",
       "_model_name": "LayoutModel",
       "_view_count": null,
       "_view_module": "@jupyter-widgets/base",
       "_view_module_version": "1.2.0",
       "_view_name": "LayoutView",
       "align_content": null,
       "align_items": null,
       "align_self": null,
       "border": null,
       "bottom": null,
       "display": null,
       "flex": null,
       "flex_flow": null,
       "grid_area": null,
       "grid_auto_columns": null,
       "grid_auto_flow": null,
       "grid_auto_rows": null,
       "grid_column": null,
       "grid_gap": null,
       "grid_row": null,
       "grid_template_areas": null,
       "grid_template_columns": null,
       "grid_template_rows": null,
       "height": null,
       "justify_content": null,
       "justify_items": null,
       "left": null,
       "margin": null,
       "max_height": null,
       "max_width": null,
       "min_height": null,
       "min_width": null,
       "object_fit": null,
       "object_position": null,
       "order": null,
       "overflow": null,
       "overflow_x": null,
       "overflow_y": null,
       "padding": null,
       "right": null,
       "top": null,
       "visibility": null,
       "width": null
      }
     },
     "d8396f20faaf40699bd48cd9bfbc0c2d": {
      "model_module": "@jupyter-widgets/controls",
      "model_module_version": "1.5.0",
      "model_name": "FloatProgressModel",
      "state": {
       "_dom_classes": [],
       "_model_module": "@jupyter-widgets/controls",
       "_model_module_version": "1.5.0",
       "_model_name": "FloatProgressModel",
       "_view_count": null,
       "_view_module": "@jupyter-widgets/controls",
       "_view_module_version": "1.5.0",
       "_view_name": "ProgressView",
       "bar_style": "success",
       "description": "",
       "description_tooltip": null,
       "layout": "IPY_MODEL_b2f91c1aec684972b3a30173f4540834",
       "max": 985.0,
       "min": 0.0,
       "orientation": "horizontal",
       "style": "IPY_MODEL_e0ff4c47a8ff4ca6896f0ec1abf1863f",
       "value": 985.0
      }
     },
     "d8f6e03e88624d3096e9aa4c87ce48d6": {
      "model_module": "@jupyter-widgets/controls",
      "model_module_version": "1.5.0",
      "model_name": "DescriptionStyleModel",
      "state": {
       "_model_module": "@jupyter-widgets/controls",
       "_model_module_version": "1.5.0",
       "_model_name": "DescriptionStyleModel",
       "_view_count": null,
       "_view_module": "@jupyter-widgets/base",
       "_view_module_version": "1.2.0",
       "_view_name": "StyleView",
       "description_width": ""
      }
     },
     "dcffdac186544ea1ac6ae0cc24d07199": {
      "model_module": "@jupyter-widgets/controls",
      "model_module_version": "1.5.0",
      "model_name": "DescriptionStyleModel",
      "state": {
       "_model_module": "@jupyter-widgets/controls",
       "_model_module_version": "1.5.0",
       "_model_name": "DescriptionStyleModel",
       "_view_count": null,
       "_view_module": "@jupyter-widgets/base",
       "_view_module_version": "1.2.0",
       "_view_name": "StyleView",
       "description_width": ""
      }
     },
     "dd5f748ac5bd4f57b1e9d19084cce622": {
      "model_module": "@jupyter-widgets/base",
      "model_module_version": "1.2.0",
      "model_name": "LayoutModel",
      "state": {
       "_model_module": "@jupyter-widgets/base",
       "_model_module_version": "1.2.0",
       "_model_name": "LayoutModel",
       "_view_count": null,
       "_view_module": "@jupyter-widgets/base",
       "_view_module_version": "1.2.0",
       "_view_name": "LayoutView",
       "align_content": null,
       "align_items": null,
       "align_self": null,
       "border": null,
       "bottom": null,
       "display": null,
       "flex": null,
       "flex_flow": null,
       "grid_area": null,
       "grid_auto_columns": null,
       "grid_auto_flow": null,
       "grid_auto_rows": null,
       "grid_column": null,
       "grid_gap": null,
       "grid_row": null,
       "grid_template_areas": null,
       "grid_template_columns": null,
       "grid_template_rows": null,
       "height": null,
       "justify_content": null,
       "justify_items": null,
       "left": null,
       "margin": null,
       "max_height": null,
       "max_width": null,
       "min_height": null,
       "min_width": null,
       "object_fit": null,
       "object_position": null,
       "order": null,
       "overflow": null,
       "overflow_x": null,
       "overflow_y": null,
       "padding": null,
       "right": null,
       "top": null,
       "visibility": null,
       "width": null
      }
     },
     "dddefcf09a894b8d850ff1d8f106b86e": {
      "model_module": "@jupyter-widgets/controls",
      "model_module_version": "1.5.0",
      "model_name": "DescriptionStyleModel",
      "state": {
       "_model_module": "@jupyter-widgets/controls",
       "_model_module_version": "1.5.0",
       "_model_name": "DescriptionStyleModel",
       "_view_count": null,
       "_view_module": "@jupyter-widgets/base",
       "_view_module_version": "1.2.0",
       "_view_name": "StyleView",
       "description_width": ""
      }
     },
     "dde3a668cda9459cb8687d969c63fb8a": {
      "model_module": "@jupyter-widgets/controls",
      "model_module_version": "1.5.0",
      "model_name": "HTMLModel",
      "state": {
       "_dom_classes": [],
       "_model_module": "@jupyter-widgets/controls",
       "_model_module_version": "1.5.0",
       "_model_name": "HTMLModel",
       "_view_count": null,
       "_view_module": "@jupyter-widgets/controls",
       "_view_module_version": "1.5.0",
       "_view_name": "HTMLView",
       "description": "",
       "description_tooltip": null,
       "layout": "IPY_MODEL_bf0194a919cb418a90cbae26ada27a9a",
       "placeholder": "​",
       "style": "IPY_MODEL_11d353d016b54572b2dabedfbaecb93c",
       "value": "100%"
      }
     },
     "e0ff4c47a8ff4ca6896f0ec1abf1863f": {
      "model_module": "@jupyter-widgets/controls",
      "model_module_version": "1.5.0",
      "model_name": "ProgressStyleModel",
      "state": {
       "_model_module": "@jupyter-widgets/controls",
       "_model_module_version": "1.5.0",
       "_model_name": "ProgressStyleModel",
       "_view_count": null,
       "_view_module": "@jupyter-widgets/base",
       "_view_module_version": "1.2.0",
       "_view_name": "StyleView",
       "bar_color": null,
       "description_width": ""
      }
     },
     "e4c10939ba45496d98b41983b3af75d2": {
      "model_module": "@jupyter-widgets/controls",
      "model_module_version": "1.5.0",
      "model_name": "HTMLModel",
      "state": {
       "_dom_classes": [],
       "_model_module": "@jupyter-widgets/controls",
       "_model_module_version": "1.5.0",
       "_model_name": "HTMLModel",
       "_view_count": null,
       "_view_module": "@jupyter-widgets/controls",
       "_view_module_version": "1.5.0",
       "_view_name": "HTMLView",
       "description": "",
       "description_tooltip": null,
       "layout": "IPY_MODEL_abd62e44cee048a68b042d583139cb67",
       "placeholder": "​",
       "style": "IPY_MODEL_66627ad8ffce48aab76e2635d6b89594",
       "value": "100%"
      }
     },
     "e62364df046b4b23b5d84736b99408e8": {
      "model_module": "@jupyter-widgets/controls",
      "model_module_version": "1.5.0",
      "model_name": "HBoxModel",
      "state": {
       "_dom_classes": [],
       "_model_module": "@jupyter-widgets/controls",
       "_model_module_version": "1.5.0",
       "_model_name": "HBoxModel",
       "_view_count": null,
       "_view_module": "@jupyter-widgets/controls",
       "_view_module_version": "1.5.0",
       "_view_name": "HBoxView",
       "box_style": "",
       "children": [
        "IPY_MODEL_e4c10939ba45496d98b41983b3af75d2",
        "IPY_MODEL_065b642623b44c2da66f87cacf6d46ea",
        "IPY_MODEL_5d5a3b29810e42719cb15d01cd620093"
       ],
       "layout": "IPY_MODEL_7a43ba1429f645eda05a8570a46bac9c"
      }
     },
     "e7a750e9a6a648038e6dc775011187b5": {
      "model_module": "@jupyter-widgets/controls",
      "model_module_version": "1.5.0",
      "model_name": "HTMLModel",
      "state": {
       "_dom_classes": [],
       "_model_module": "@jupyter-widgets/controls",
       "_model_module_version": "1.5.0",
       "_model_name": "HTMLModel",
       "_view_count": null,
       "_view_module": "@jupyter-widgets/controls",
       "_view_module_version": "1.5.0",
       "_view_name": "HTMLView",
       "description": "",
       "description_tooltip": null,
       "layout": "IPY_MODEL_170dc7af556f43f989abe21ee3c3c4ab",
       "placeholder": "​",
       "style": "IPY_MODEL_1cf0d0dd733d46fe87b3cc4ce7ac455e",
       "value": "100%"
      }
     },
     "e7f5b4b2493a4ce48c8f5bd5fb26bee5": {
      "model_module": "@jupyter-widgets/controls",
      "model_module_version": "1.5.0",
      "model_name": "DescriptionStyleModel",
      "state": {
       "_model_module": "@jupyter-widgets/controls",
       "_model_module_version": "1.5.0",
       "_model_name": "DescriptionStyleModel",
       "_view_count": null,
       "_view_module": "@jupyter-widgets/base",
       "_view_module_version": "1.2.0",
       "_view_name": "StyleView",
       "description_width": ""
      }
     },
     "e8f61d70c3e847fc8bc8df8d17b92927": {
      "model_module": "@jupyter-widgets/controls",
      "model_module_version": "1.5.0",
      "model_name": "HBoxModel",
      "state": {
       "_dom_classes": [],
       "_model_module": "@jupyter-widgets/controls",
       "_model_module_version": "1.5.0",
       "_model_name": "HBoxModel",
       "_view_count": null,
       "_view_module": "@jupyter-widgets/controls",
       "_view_module_version": "1.5.0",
       "_view_name": "HBoxView",
       "box_style": "",
       "children": [
        "IPY_MODEL_b85f305746734a579dde5bf0e68f8d5d",
        "IPY_MODEL_c4a1607fa53746f09b54738c8a46b3e9",
        "IPY_MODEL_35de622253cf4ddeaf4a367ed5f8f4e9"
       ],
       "layout": "IPY_MODEL_4759177f149543319b71968519a9fde0"
      }
     },
     "ed35cd280206424898dab2f9dc475c58": {
      "model_module": "@jupyter-widgets/base",
      "model_module_version": "1.2.0",
      "model_name": "LayoutModel",
      "state": {
       "_model_module": "@jupyter-widgets/base",
       "_model_module_version": "1.2.0",
       "_model_name": "LayoutModel",
       "_view_count": null,
       "_view_module": "@jupyter-widgets/base",
       "_view_module_version": "1.2.0",
       "_view_name": "LayoutView",
       "align_content": null,
       "align_items": null,
       "align_self": null,
       "border": null,
       "bottom": null,
       "display": null,
       "flex": null,
       "flex_flow": null,
       "grid_area": null,
       "grid_auto_columns": null,
       "grid_auto_flow": null,
       "grid_auto_rows": null,
       "grid_column": null,
       "grid_gap": null,
       "grid_row": null,
       "grid_template_areas": null,
       "grid_template_columns": null,
       "grid_template_rows": null,
       "height": null,
       "justify_content": null,
       "justify_items": null,
       "left": null,
       "margin": null,
       "max_height": null,
       "max_width": null,
       "min_height": null,
       "min_width": null,
       "object_fit": null,
       "object_position": null,
       "order": null,
       "overflow": null,
       "overflow_x": null,
       "overflow_y": null,
       "padding": null,
       "right": null,
       "top": null,
       "visibility": null,
       "width": null
      }
     },
     "ede1523d24954f39b69c98577dbb4be0": {
      "model_module": "@jupyter-widgets/controls",
      "model_module_version": "1.5.0",
      "model_name": "FloatProgressModel",
      "state": {
       "_dom_classes": [],
       "_model_module": "@jupyter-widgets/controls",
       "_model_module_version": "1.5.0",
       "_model_name": "FloatProgressModel",
       "_view_count": null,
       "_view_module": "@jupyter-widgets/controls",
       "_view_module_version": "1.5.0",
       "_view_name": "ProgressView",
       "bar_style": "success",
       "description": "",
       "description_tooltip": null,
       "layout": "IPY_MODEL_d433d13b8c7d4b70b15f7d1518caedad",
       "max": 985.0,
       "min": 0.0,
       "orientation": "horizontal",
       "style": "IPY_MODEL_7aaff431398847d8a090cb8793859dbb",
       "value": 985.0
      }
     },
     "eee63aa3190a4693bb72245377f43937": {
      "model_module": "@jupyter-widgets/base",
      "model_module_version": "1.2.0",
      "model_name": "LayoutModel",
      "state": {
       "_model_module": "@jupyter-widgets/base",
       "_model_module_version": "1.2.0",
       "_model_name": "LayoutModel",
       "_view_count": null,
       "_view_module": "@jupyter-widgets/base",
       "_view_module_version": "1.2.0",
       "_view_name": "LayoutView",
       "align_content": null,
       "align_items": null,
       "align_self": null,
       "border": null,
       "bottom": null,
       "display": null,
       "flex": null,
       "flex_flow": null,
       "grid_area": null,
       "grid_auto_columns": null,
       "grid_auto_flow": null,
       "grid_auto_rows": null,
       "grid_column": null,
       "grid_gap": null,
       "grid_row": null,
       "grid_template_areas": null,
       "grid_template_columns": null,
       "grid_template_rows": null,
       "height": null,
       "justify_content": null,
       "justify_items": null,
       "left": null,
       "margin": null,
       "max_height": null,
       "max_width": null,
       "min_height": null,
       "min_width": null,
       "object_fit": null,
       "object_position": null,
       "order": null,
       "overflow": null,
       "overflow_x": null,
       "overflow_y": null,
       "padding": null,
       "right": null,
       "top": null,
       "visibility": null,
       "width": null
      }
     },
     "eeeda4b9ee0d4928af18b7bcacbe99c5": {
      "model_module": "@jupyter-widgets/controls",
      "model_module_version": "1.5.0",
      "model_name": "FloatProgressModel",
      "state": {
       "_dom_classes": [],
       "_model_module": "@jupyter-widgets/controls",
       "_model_module_version": "1.5.0",
       "_model_name": "FloatProgressModel",
       "_view_count": null,
       "_view_module": "@jupyter-widgets/controls",
       "_view_module_version": "1.5.0",
       "_view_name": "ProgressView",
       "bar_style": "success",
       "description": "",
       "description_tooltip": null,
       "layout": "IPY_MODEL_50fbec5e85c849249fe059b80c0cb6a2",
       "max": 985.0,
       "min": 0.0,
       "orientation": "horizontal",
       "style": "IPY_MODEL_a391f2552ea34f2db586a89542875564",
       "value": 985.0
      }
     },
     "f1ee9d2b3c17472bb95dcd7643c0247f": {
      "model_module": "@jupyter-widgets/controls",
      "model_module_version": "1.5.0",
      "model_name": "ProgressStyleModel",
      "state": {
       "_model_module": "@jupyter-widgets/controls",
       "_model_module_version": "1.5.0",
       "_model_name": "ProgressStyleModel",
       "_view_count": null,
       "_view_module": "@jupyter-widgets/base",
       "_view_module_version": "1.2.0",
       "_view_name": "StyleView",
       "bar_color": null,
       "description_width": ""
      }
     },
     "f4f8915e7f964562b2452442642fd8ad": {
      "model_module": "@jupyter-widgets/controls",
      "model_module_version": "1.5.0",
      "model_name": "DescriptionStyleModel",
      "state": {
       "_model_module": "@jupyter-widgets/controls",
       "_model_module_version": "1.5.0",
       "_model_name": "DescriptionStyleModel",
       "_view_count": null,
       "_view_module": "@jupyter-widgets/base",
       "_view_module_version": "1.2.0",
       "_view_name": "StyleView",
       "description_width": ""
      }
     },
     "f56ed58190774b61a9686d23c6fd82ca": {
      "model_module": "@jupyter-widgets/base",
      "model_module_version": "1.2.0",
      "model_name": "LayoutModel",
      "state": {
       "_model_module": "@jupyter-widgets/base",
       "_model_module_version": "1.2.0",
       "_model_name": "LayoutModel",
       "_view_count": null,
       "_view_module": "@jupyter-widgets/base",
       "_view_module_version": "1.2.0",
       "_view_name": "LayoutView",
       "align_content": null,
       "align_items": null,
       "align_self": null,
       "border": null,
       "bottom": null,
       "display": null,
       "flex": null,
       "flex_flow": null,
       "grid_area": null,
       "grid_auto_columns": null,
       "grid_auto_flow": null,
       "grid_auto_rows": null,
       "grid_column": null,
       "grid_gap": null,
       "grid_row": null,
       "grid_template_areas": null,
       "grid_template_columns": null,
       "grid_template_rows": null,
       "height": null,
       "justify_content": null,
       "justify_items": null,
       "left": null,
       "margin": null,
       "max_height": null,
       "max_width": null,
       "min_height": null,
       "min_width": null,
       "object_fit": null,
       "object_position": null,
       "order": null,
       "overflow": null,
       "overflow_x": null,
       "overflow_y": null,
       "padding": null,
       "right": null,
       "top": null,
       "visibility": null,
       "width": null
      }
     },
     "fcd700d323f74b5d9862e8a4668762cf": {
      "model_module": "@jupyter-widgets/base",
      "model_module_version": "1.2.0",
      "model_name": "LayoutModel",
      "state": {
       "_model_module": "@jupyter-widgets/base",
       "_model_module_version": "1.2.0",
       "_model_name": "LayoutModel",
       "_view_count": null,
       "_view_module": "@jupyter-widgets/base",
       "_view_module_version": "1.2.0",
       "_view_name": "LayoutView",
       "align_content": null,
       "align_items": null,
       "align_self": null,
       "border": null,
       "bottom": null,
       "display": null,
       "flex": null,
       "flex_flow": null,
       "grid_area": null,
       "grid_auto_columns": null,
       "grid_auto_flow": null,
       "grid_auto_rows": null,
       "grid_column": null,
       "grid_gap": null,
       "grid_row": null,
       "grid_template_areas": null,
       "grid_template_columns": null,
       "grid_template_rows": null,
       "height": null,
       "justify_content": null,
       "justify_items": null,
       "left": null,
       "margin": null,
       "max_height": null,
       "max_width": null,
       "min_height": null,
       "min_width": null,
       "object_fit": null,
       "object_position": null,
       "order": null,
       "overflow": null,
       "overflow_x": null,
       "overflow_y": null,
       "padding": null,
       "right": null,
       "top": null,
       "visibility": null,
       "width": null
      }
     }
    },
    "version_major": 2,
    "version_minor": 0
   }
  }
 },
 "nbformat": 4,
 "nbformat_minor": 5
}
